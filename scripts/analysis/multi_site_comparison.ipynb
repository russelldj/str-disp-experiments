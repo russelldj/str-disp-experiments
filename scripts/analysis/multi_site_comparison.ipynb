{
 "cells": [
  {
   "cell_type": "code",
   "execution_count": 4,
   "metadata": {},
   "outputs": [],
   "source": [
    "import os\n",
    "import sys\n",
    "from pathlib import Path\n",
    "\n",
    "import numpy as np\n",
    "from sklearn.metrics import ConfusionMatrixDisplay\n",
    "\n",
    "from multiview_mapping_toolkit.utils.prediction_metrics import (\n",
    "    compute_comprehensive_metrics,\n",
    ")\n",
    "\n",
    "sys.path.append(\"..\")\n",
    "from constants import get_IDs_to_labels"
   ]
  },
  {
   "cell_type": "code",
   "execution_count": 6,
   "metadata": {},
   "outputs": [],
   "source": [
    "PROJECT_ROOT = Path(os.path.abspath(\"\"), \"..\", \"..\").resolve()\n",
    "SITE_NAMES = (\"chips\", \"delta\", \"lassic\", \"valley\")"
   ]
  },
  {
   "cell_type": "code",
   "execution_count": 8,
   "metadata": {},
   "outputs": [
    {
     "ename": "FileNotFoundError",
     "evalue": "[Errno 2] No such file or directory: '/ofo-share/repos-derek/str-disp-experiments/per_site_processing/chips/05_processed_predictions/chips_MVMT_confusion_matrix.npy'",
     "output_type": "error",
     "traceback": [
      "\u001b[0;31m---------------------------------------------------------------------------\u001b[0m",
      "\u001b[0;31mFileNotFoundError\u001b[0m                         Traceback (most recent call last)",
      "Cell \u001b[0;32mIn[8], line 9\u001b[0m\n\u001b[1;32m      7\u001b[0m labels \u001b[38;5;241m=\u001b[39m \u001b[38;5;28mlist\u001b[39m(IDs_to_labels\u001b[38;5;241m.\u001b[39mvalues())\n\u001b[1;32m      8\u001b[0m \u001b[38;5;28;01mfor\u001b[39;00m site_name \u001b[38;5;129;01min\u001b[39;00m SITE_NAMES:\n\u001b[0;32m----> 9\u001b[0m     MVMT_data \u001b[38;5;241m=\u001b[39m \u001b[43mnp\u001b[49m\u001b[38;5;241;43m.\u001b[39;49m\u001b[43mload\u001b[49m\u001b[43m(\u001b[49m\n\u001b[1;32m     10\u001b[0m \u001b[43m        \u001b[49m\u001b[43mPath\u001b[49m\u001b[43m(\u001b[49m\n\u001b[1;32m     11\u001b[0m \u001b[43m            \u001b[49m\u001b[43mPROJECT_ROOT\u001b[49m\u001b[43m,\u001b[49m\n\u001b[1;32m     12\u001b[0m \u001b[43m            \u001b[49m\u001b[38;5;124;43m\"\u001b[39;49m\u001b[38;5;124;43mper_site_processing\u001b[39;49m\u001b[38;5;124;43m\"\u001b[39;49m\u001b[43m,\u001b[49m\n\u001b[1;32m     13\u001b[0m \u001b[43m            \u001b[49m\u001b[43msite_name\u001b[49m\u001b[43m,\u001b[49m\n\u001b[1;32m     14\u001b[0m \u001b[43m            \u001b[49m\u001b[38;5;124;43m\"\u001b[39;49m\u001b[38;5;124;43m05_processed_predictions\u001b[39;49m\u001b[38;5;124;43m\"\u001b[39;49m\u001b[43m,\u001b[49m\n\u001b[1;32m     15\u001b[0m \u001b[43m            \u001b[49m\u001b[38;5;124;43mf\u001b[39;49m\u001b[38;5;124;43m\"\u001b[39;49m\u001b[38;5;132;43;01m{\u001b[39;49;00m\u001b[43msite_name\u001b[49m\u001b[38;5;132;43;01m}\u001b[39;49;00m\u001b[38;5;124;43m_MVMT_confusion_matrix.npy\u001b[39;49m\u001b[38;5;124;43m\"\u001b[39;49m\u001b[43m,\u001b[49m\n\u001b[1;32m     16\u001b[0m \u001b[43m        \u001b[49m\u001b[43m)\u001b[49m\n\u001b[1;32m     17\u001b[0m \u001b[43m    \u001b[49m\u001b[43m)\u001b[49m\n\u001b[1;32m     18\u001b[0m     MVMT_matrices\u001b[38;5;241m.\u001b[39mappend(MVMT_data)\n\u001b[1;32m     19\u001b[0m     ortho_data \u001b[38;5;241m=\u001b[39m np\u001b[38;5;241m.\u001b[39mload(\n\u001b[1;32m     20\u001b[0m         Path(\n\u001b[1;32m     21\u001b[0m             PROJECT_ROOT,\n\u001b[0;32m   (...)\u001b[0m\n\u001b[1;32m     26\u001b[0m         )\n\u001b[1;32m     27\u001b[0m     )\n",
      "File \u001b[0;32m/ofo-share/repos-david/conda/envs/MVMT-stable/lib/python3.9/site-packages/numpy/lib/npyio.py:427\u001b[0m, in \u001b[0;36mload\u001b[0;34m(file, mmap_mode, allow_pickle, fix_imports, encoding, max_header_size)\u001b[0m\n\u001b[1;32m    425\u001b[0m     own_fid \u001b[38;5;241m=\u001b[39m \u001b[38;5;28;01mFalse\u001b[39;00m\n\u001b[1;32m    426\u001b[0m \u001b[38;5;28;01melse\u001b[39;00m:\n\u001b[0;32m--> 427\u001b[0m     fid \u001b[38;5;241m=\u001b[39m stack\u001b[38;5;241m.\u001b[39menter_context(\u001b[38;5;28;43mopen\u001b[39;49m\u001b[43m(\u001b[49m\u001b[43mos_fspath\u001b[49m\u001b[43m(\u001b[49m\u001b[43mfile\u001b[49m\u001b[43m)\u001b[49m\u001b[43m,\u001b[49m\u001b[43m \u001b[49m\u001b[38;5;124;43m\"\u001b[39;49m\u001b[38;5;124;43mrb\u001b[39;49m\u001b[38;5;124;43m\"\u001b[39;49m\u001b[43m)\u001b[49m)\n\u001b[1;32m    428\u001b[0m     own_fid \u001b[38;5;241m=\u001b[39m \u001b[38;5;28;01mTrue\u001b[39;00m\n\u001b[1;32m    430\u001b[0m \u001b[38;5;66;03m# Code to distinguish from NumPy binary files and pickles.\u001b[39;00m\n",
      "\u001b[0;31mFileNotFoundError\u001b[0m: [Errno 2] No such file or directory: '/ofo-share/repos-derek/str-disp-experiments/per_site_processing/chips/05_processed_predictions/chips_MVMT_confusion_matrix.npy'"
     ]
    }
   ],
   "source": [
    "ortho_matrices = []\n",
    "MVMT_matrices = []\n",
    "\n",
    "IDs_to_labels = get_IDs_to_labels()\n",
    "\n",
    "class_names = list(IDs_to_labels.keys())\n",
    "labels = list(IDs_to_labels.values())\n",
    "for site_name in SITE_NAMES:\n",
    "    MVMT_data = np.load(\n",
    "        Path(\n",
    "            PROJECT_ROOT,\n",
    "            \"per_site_processing\",\n",
    "            site_name,\n",
    "            \"05_processed_predictions\",\n",
    "            f\"{site_name}_MVMT_confusion_matrix.npy\",\n",
    "        )\n",
    "    )\n",
    "    MVMT_matrices.append(MVMT_data)\n",
    "    ortho_data = np.load(\n",
    "        Path(\n",
    "            PROJECT_ROOT,\n",
    "            \"per_site_processing\",\n",
    "            site_name,\n",
    "            \"05_processed_predictions\",\n",
    "            f\"{site_name}_ortho_confusion_matrix.npy\",\n",
    "        )\n",
    "    )\n",
    "    ortho_matrices.append(ortho_data)\n",
    "    print(f\"ortho sum: {np.sum(ortho_data)}, MVMT sum: {np.sum(MVMT_data)}\")\n",
    "\n",
    "    ortho_metrics = compute_comprehensive_metrics(ortho_data, class_names=labels)\n",
    "    multiview_metrics = compute_comprehensive_metrics(\n",
    "        MVMT_data, class_names=labels\n",
    "    )\n",
    "    \n",
    "    ortho_accuracy = ortho_metrics[\"accuracy\"]\n",
    "    ortho_CA_recall = ortho_metrics[\"class_averaged_recall\"]\n",
    "    ortho_CA_precision = ortho_metrics[\"class_averaged_precision\"]\n",
    "    \n",
    "    multiview_accuracy = multiview_metrics[\"accuracy\"]\n",
    "    multiview_CA_recall = multiview_metrics[\"class_averaged_recall\"]\n",
    "    multiview_CA_precision = multiview_metrics[\"class_averaged_precision\"]\n",
    "    \n",
    "    print(f\"{site_name} Ortho accuracy: {ortho_accuracy:.2f}, CA recall {ortho_CA_recall:.2f}, CA precision: {ortho_CA_precision:.2f}\")\n",
    "    print(f\"{site_name} multiview accuracy: {multiview_accuracy:.2f}, CA recall {multiview_CA_recall:.2f}, CA precision: {multiview_CA_precision:.2f}\")\n",
    "print(ortho_matrices)\n",
    "print(MVMT_matrices)\n",
    "\n",
    "aggregated_ortho = np.sum(ortho_matrices, axis=0)\n",
    "aggregated_MVMT = np.sum(MVMT_matrices, axis=0)\n",
    "\n",
    "\n",
    "cf_disp = ConfusionMatrixDisplay(\n",
    "    confusion_matrix=aggregated_MVMT, display_labels=labels\n",
    ")\n",
    "cf_disp.plot()\n",
    "cf_disp = ConfusionMatrixDisplay(\n",
    "    confusion_matrix=aggregated_ortho, display_labels=labels\n",
    ")\n",
    "cf_disp.plot()\n",
    "\n",
    "\n",
    "ortho_metrics = compute_comprehensive_metrics(aggregated_ortho, class_names=class_names)\n",
    "multiview_metrics = compute_comprehensive_metrics(\n",
    "    aggregated_MVMT, class_names=class_names\n",
    ")\n",
    "\n",
    "ortho_accuracy = ortho_metrics[\"accuracy\"]\n",
    "ortho_CA_recall = ortho_metrics[\"class_averaged_recall\"]\n",
    "ortho_CA_precision = ortho_metrics[\"class_averaged_precision\"]\n",
    "\n",
    "multiview_accuracy = multiview_metrics[\"accuracy\"]\n",
    "multiview_CA_recall = multiview_metrics[\"class_averaged_recall\"]\n",
    "multiview_CA_precision = multiview_metrics[\"class_averaged_precision\"]\n",
    "\n",
    "print(f\"Ortho accuracy: {ortho_accuracy:.2f}, CA recall {ortho_CA_recall:.2f}, CA precision: {ortho_CA_precision:.2f}\")\n",
    "print(f\"multiview accuracy: {multiview_accuracy:.2f}, CA recall {multiview_CA_recall:.2f}, CA precision: {multiview_CA_precision:.2f}\")\n",
    "\n",
    "print(ortho_metrics[\"per_class\"])\n",
    "print(multiview_metrics[\"per_class\"])"
   ]
  },
  {
   "cell_type": "code",
   "execution_count": null,
   "metadata": {},
   "outputs": [],
   "source": []
  }
 ],
 "metadata": {
  "kernelspec": {
   "display_name": "Python [conda env:conda-MVMT-stable]",
   "language": "python",
   "name": "conda-env-conda-MVMT-stable-py"
  },
  "language_info": {
   "codemirror_mode": {
    "name": "ipython",
    "version": 3
   },
   "file_extension": ".py",
   "mimetype": "text/x-python",
   "name": "python",
   "nbconvert_exporter": "python",
   "pygments_lexer": "ipython3",
   "version": "3.9.18"
  }
 },
 "nbformat": 4,
 "nbformat_minor": 4
}
