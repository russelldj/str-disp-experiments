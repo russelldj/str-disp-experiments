{
 "cells": [
  {
   "cell_type": "code",
   "execution_count": 9,
   "metadata": {},
   "outputs": [],
   "source": [
    "import os\n",
    "import sys\n",
    "from pathlib import Path\n",
    "\n",
    "import numpy as np\n",
    "from sklearn.metrics import ConfusionMatrixDisplay\n",
    "\n",
    "from multiview_mapping_toolkit.utils.prediction_metrics import (\n",
    "    compute_comprehensive_metrics,\n",
    ")\n",
    "\n",
    "sys.path.append(\"..\")\n",
    "from constants import get_IDs_to_labels"
   ]
  },
  {
   "cell_type": "code",
   "execution_count": 10,
   "metadata": {},
   "outputs": [],
   "source": [
    "PROJECT_ROOT = Path(os.path.abspath(\"\"), \"..\", \"..\").resolve()\n",
    "SITE_NAMES = (\"chips\", \"delta\", \"valley\")"
   ]
  },
  {
   "cell_type": "code",
   "execution_count": 11,
   "metadata": {},
   "outputs": [
    {
     "name": "stdout",
     "output_type": "stream",
     "text": [
      "ortho sum: 253, MVMT sum: 244\n"
     ]
    },
    {
     "ename": "TypeError",
     "evalue": "'NoneType' object is not iterable",
     "output_type": "error",
     "traceback": [
      "\u001b[0;31m---------------------------------------------------------------------------\u001b[0m",
      "\u001b[0;31mTypeError\u001b[0m                                 Traceback (most recent call last)",
      "Cell \u001b[0;32mIn[11], line 27\u001b[0m\n\u001b[1;32m     24\u001b[0m ortho_matrices\u001b[38;5;241m.\u001b[39mappend(ortho_data)\n\u001b[1;32m     25\u001b[0m \u001b[38;5;28mprint\u001b[39m(\u001b[38;5;124mf\u001b[39m\u001b[38;5;124m\"\u001b[39m\u001b[38;5;124mortho sum: \u001b[39m\u001b[38;5;132;01m{\u001b[39;00mnp\u001b[38;5;241m.\u001b[39msum(ortho_data)\u001b[38;5;132;01m}\u001b[39;00m\u001b[38;5;124m, MVMT sum: \u001b[39m\u001b[38;5;132;01m{\u001b[39;00mnp\u001b[38;5;241m.\u001b[39msum(MVMT_data)\u001b[38;5;132;01m}\u001b[39;00m\u001b[38;5;124m\"\u001b[39m)\n\u001b[0;32m---> 27\u001b[0m ortho_metrics \u001b[38;5;241m=\u001b[39m \u001b[43mcompute_comprehensive_metrics\u001b[49m\u001b[43m(\u001b[49m\u001b[43mortho_data\u001b[49m\u001b[43m,\u001b[49m\u001b[43m \u001b[49m\u001b[43mclass_names\u001b[49m\u001b[38;5;241;43m=\u001b[39;49m\u001b[38;5;28;43;01mNone\u001b[39;49;00m\u001b[43m)\u001b[49m\n\u001b[1;32m     28\u001b[0m multiview_metrics \u001b[38;5;241m=\u001b[39m compute_comprehensive_metrics(\n\u001b[1;32m     29\u001b[0m     MVMT_data, class_names\u001b[38;5;241m=\u001b[39m\u001b[38;5;28;01mNone\u001b[39;00m\n\u001b[1;32m     30\u001b[0m )\n\u001b[1;32m     32\u001b[0m ortho_accuracy \u001b[38;5;241m=\u001b[39m ortho_metrics[\u001b[38;5;124m\"\u001b[39m\u001b[38;5;124maccuracy\u001b[39m\u001b[38;5;124m\"\u001b[39m]\n",
      "File \u001b[0;32m/ofo-share/repos-david/multiview-mapping-toolkit/multiview_mapping_toolkit/utils/prediction_metrics.py:284\u001b[0m, in \u001b[0;36mcompute_comprehensive_metrics\u001b[0;34m(cf_matrix, class_names)\u001b[0m\n\u001b[1;32m    280\u001b[0m num_classes \u001b[38;5;241m=\u001b[39m cf_matrix\u001b[38;5;241m.\u001b[39mshape[\u001b[38;5;241m0\u001b[39m]\n\u001b[1;32m    282\u001b[0m per_class_dict \u001b[38;5;241m=\u001b[39m {}\n\u001b[0;32m--> 284\u001b[0m \u001b[38;5;28;01mfor\u001b[39;00m i, class_name \u001b[38;5;129;01min\u001b[39;00m \u001b[38;5;28;43mzip\u001b[39;49m\u001b[43m(\u001b[49m\u001b[38;5;28;43mrange\u001b[39;49m\u001b[43m(\u001b[49m\u001b[43mnum_classes\u001b[49m\u001b[43m)\u001b[49m\u001b[43m,\u001b[49m\u001b[43m \u001b[49m\u001b[43mclass_names\u001b[49m\u001b[43m)\u001b[49m:\n\u001b[1;32m    285\u001b[0m     true_positives \u001b[38;5;241m=\u001b[39m cf_matrix[i, i]\n\u001b[1;32m    286\u001b[0m     num_true \u001b[38;5;241m=\u001b[39m np\u001b[38;5;241m.\u001b[39msum(cf_matrix[i, :])\n",
      "\u001b[0;31mTypeError\u001b[0m: 'NoneType' object is not iterable"
     ]
    }
   ],
   "source": [
    "ortho_matrices = []\n",
    "MVMT_matrices = []\n",
    "\n",
    "labels = list(get_IDs_to_labels().values())\n",
    "for site_name in SITE_NAMES:\n",
    "    MVMT_data = np.load(\n",
    "        Path(\n",
    "            PROJECT_ROOT,\n",
    "            \"per_site_processing\",\n",
    "            site_name,\n",
    "            \"05_processed_predictions\",\n",
    "            f\"{site_name}_MVMT_confusion_matrix.npy\",\n",
    "        )\n",
    "    )\n",
    "    MVMT_matrices.append(MVMT_data)\n",
    "    ortho_data = np.load(\n",
    "        Path(\n",
    "            PROJECT_ROOT,\n",
    "            \"per_site_processing\",\n",
    "            site_name,\n",
    "            \"05_processed_predictions\",\n",
    "            f\"{site_name}_ortho_confusion_matrix.npy\",\n",
    "        )\n",
    "    )\n",
    "    ortho_matrices.append(ortho_data)\n",
    "    print(f\"ortho sum: {np.sum(ortho_data)}, MVMT sum: {np.sum(MVMT_data)}\")\n",
    "\n",
    "    ortho_metrics = compute_comprehensive_metrics(ortho_data, class_names=labels)\n",
    "    multiview_metrics = compute_comprehensive_metrics(\n",
    "        MVMT_data, class_names=labels\n",
    "    )\n",
    "    \n",
    "    ortho_accuracy = ortho_metrics[\"accuracy\"]\n",
    "    ortho_CA_recall = ortho_metrics[\"class_averaged_recall\"]\n",
    "    ortho_CA_precision = ortho_metrics[\"class_averaged_precision\"]\n",
    "    \n",
    "    multiview_accuracy = multiview_metrics[\"accuracy\"]\n",
    "    multiview_CA_recall = multiview_metrics[\"class_averaged_recall\"]\n",
    "    multiview_CA_precision = multiview_metrics[\"class_averaged_precision\"]\n",
    "    \n",
    "    print(f\"{site_name} Ortho accuracy: {ortho_accuracy:.2f}, CA recall {ortho_CA_recall:.2f}, CA precision: {ortho_CA_precision:.2f}\")\n",
    "    print(f\"{site_name} multiview accuracy: {multiview_accuracy:.2f}, CA recall {multiview_CA_recall:.2f}, CA precision: {multiview_CA_precision:.2f}\")\n",
    "\n",
    "\n",
    "aggregated_ortho = np.sum(ortho_matrices, axis=0)\n",
    "aggregated_MVMT = np.sum(MVMT_matrices, axis=0)\n",
    "\n",
    "\n",
    "\n",
    "cf_disp = ConfusionMatrixDisplay(\n",
    "    confusion_matrix=aggregated_MVMT, display_labels=labels\n",
    ")\n",
    "cf_disp.plot()\n",
    "cf_disp = ConfusionMatrixDisplay(\n",
    "    confusion_matrix=aggregated_ortho, display_labels=labels\n",
    ")\n",
    "cf_disp.plot()\n",
    "\n",
    "class_names = list(get_IDs_to_labels().values())\n",
    "\n",
    "ortho_metrics = compute_comprehensive_metrics(aggregated_ortho, class_names=class_names)\n",
    "multiview_metrics = compute_comprehensive_metrics(\n",
    "    aggregated_MVMT, class_names=class_names\n",
    ")\n",
    "\n",
    "ortho_accuracy = ortho_metrics[\"accuracy\"]\n",
    "ortho_CA_recall = ortho_metrics[\"class_averaged_recall\"]\n",
    "ortho_CA_precision = ortho_metrics[\"class_averaged_precision\"]\n",
    "\n",
    "multiview_accuracy = multiview_metrics[\"accuracy\"]\n",
    "multiview_CA_recall = multiview_metrics[\"class_averaged_recall\"]\n",
    "multiview_CA_precision = multiview_metrics[\"class_averaged_precision\"]\n",
    "\n",
    "print(f\"Ortho accuracy: {ortho_accuracy:.2f}, CA recall {ortho_CA_recall:.2f}, CA precision: {ortho_CA_precision:.2f}\")\n",
    "print(f\"multiview accuracy: {multiview_accuracy:.2f}, CA recall {multiview_CA_recall:.2f}, CA precision: {multiview_CA_precision:.2f}\")\n",
    "\n",
    "print(ortho_metrics)\n",
    "print(multiview_accuracy)"
   ]
  }
 ],
 "metadata": {
  "kernelspec": {
   "display_name": "MVMT-stable",
   "language": "python",
   "name": "python3"
  },
  "language_info": {
   "codemirror_mode": {
    "name": "ipython",
    "version": 3
   },
   "file_extension": ".py",
   "mimetype": "text/x-python",
   "name": "python",
   "nbconvert_exporter": "python",
   "pygments_lexer": "ipython3",
   "version": "3.9.18"
  }
 },
 "nbformat": 4,
 "nbformat_minor": 2
}
