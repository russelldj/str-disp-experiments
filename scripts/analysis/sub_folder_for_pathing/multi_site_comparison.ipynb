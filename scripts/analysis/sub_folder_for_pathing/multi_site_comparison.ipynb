{
 "cells": [
  {
   "cell_type": "code",
   "execution_count": 1,
   "metadata": {},
   "outputs": [
    {
     "name": "stderr",
     "output_type": "stream",
     "text": [
      "/ofo-share/repos-david/conda/envs/MVMT-stable/lib/python3.9/site-packages/tqdm/auto.py:21: TqdmWarning: IProgress not found. Please update jupyter and ipywidgets. See https://ipywidgets.readthedocs.io/en/stable/user_install.html\n",
      "  from .autonotebook import tqdm as notebook_tqdm\n"
     ]
    }
   ],
   "source": [
    "import sys\n",
    "\n",
    "import numpy as np\n",
    "from sklearn.metrics import ConfusionMatrixDisplay\n",
    "\n",
    "from multiview_mapping_toolkit.segmentation import SegmentorPhotogrammetryCameraSet\n",
    "from multiview_mapping_toolkit.segmentation.derived_segmentors import LookUpSegmentor\n",
    "\n",
    "sys.path.append(\"../..\")\n",
    "from constants import get_IDs_to_labels, get_numpy_export_cf_filename"
   ]
  },
  {
   "cell_type": "code",
   "execution_count": 2,
   "metadata": {},
   "outputs": [],
   "source": [
    "SITE_NAMES = (\"chips\", \"delta\", \"lassic\", \"valley\")"
   ]
  },
  {
   "cell_type": "code",
   "execution_count": 3,
   "metadata": {
    "scrolled": true
   },
   "outputs": [
    {
     "ename": "ValueError",
     "evalue": "",
     "output_type": "error",
     "traceback": [
      "\u001b[0;31m---------------------------------------------------------------------------\u001b[0m",
      "\u001b[0;31mValueError\u001b[0m                                Traceback (most recent call last)",
      "Cell \u001b[0;32mIn[3], line 31\u001b[0m\n\u001b[1;32m     22\u001b[0m ortho_matrices\u001b[38;5;241m.\u001b[39mappend(\n\u001b[1;32m     23\u001b[0m     np\u001b[38;5;241m.\u001b[39mload(\n\u001b[1;32m     24\u001b[0m         get_numpy_export_cf_filename(\n\u001b[0;32m   (...)\u001b[0m\n\u001b[1;32m     27\u001b[0m     )\n\u001b[1;32m     28\u001b[0m )\n\u001b[1;32m     30\u001b[0m \u001b[38;5;28;01mif\u001b[39;00m np\u001b[38;5;241m.\u001b[39msum(MVMT_matrices[\u001b[38;5;241m-\u001b[39m\u001b[38;5;241m1\u001b[39m]) \u001b[38;5;241m!=\u001b[39m np\u001b[38;5;241m.\u001b[39msum(ortho_matrices[\u001b[38;5;241m-\u001b[39m\u001b[38;5;241m1\u001b[39m]):\n\u001b[0;32m---> 31\u001b[0m     \u001b[38;5;28;01mraise\u001b[39;00m \u001b[38;5;167;01mValueError\u001b[39;00m()\n",
      "\u001b[0;31mValueError\u001b[0m: "
     ]
    }
   ],
   "source": [
    "ortho_matrices = []\n",
    "MVMT_matrices = []\n",
    "\n",
    "ortho_metrics = []\n",
    "MVMT_metrics = []\n",
    "\n",
    "IDs_to_labels = get_IDs_to_labels()\n",
    "\n",
    "class_names = list(IDs_to_labels.keys())\n",
    "labels = list(IDs_to_labels.values())\n",
    "\n",
    "\n",
    "for inference_site_name in SITE_NAMES:\n",
    "    training_site_names = sorted(list(set(SITE_NAMES) - set([inference_site_name])))\n",
    "    MVMT_matrices.append(\n",
    "        np.load(\n",
    "            get_numpy_export_cf_filename(\n",
    "                inference_site_name, training_sites=training_site_names, is_ortho=False\n",
    "            )\n",
    "        )\n",
    "    )\n",
    "    ortho_matrices.append(\n",
    "        np.load(\n",
    "            get_numpy_export_cf_filename(\n",
    "                inference_site_name, training_sites=training_site_names, is_ortho=True\n",
    "            )\n",
    "        )\n",
    "    )\n",
    "\n",
    "    if np.sum(MVMT_matrices[-1]) != np.sum(ortho_matrices[-1]):\n",
    "        raise ValueError()"
   ]
  },
  {
   "cell_type": "code",
   "execution_count": null,
   "metadata": {},
   "outputs": [],
   "source": [
    "aggregated_ortho_cm = np.sum(ortho_matrices, axis=0)\n",
    "aggregated_MVMT_cm = np.sum(MVMT_matrices, axis=0)\n",
    "print(\"MVMT\")\n",
    "cf_disp = ConfusionMatrixDisplay(\n",
    "    confusion_matrix=aggregated_MVMT_cm, display_labels=labels\n",
    ")\n",
    "cf_disp.plot()\n",
    "print(\"ortho\")\n",
    "cf_disp = ConfusionMatrixDisplay(\n",
    "    confusion_matrix=aggregated_ortho_cm, display_labels=labels\n",
    ")\n",
    "cf_disp.plot()"
   ]
  },
  {
   "cell_type": "code",
   "execution_count": null,
   "metadata": {},
   "outputs": [],
   "source": [
    "aggregated_ortho_metrics = compute_comprehensive_metrics(\n",
    "    aggregated_ortho_cm, class_names=class_names\n",
    ")\n",
    "aggregated_multiview_metrics = compute_comprehensive_metrics(\n",
    "    aggregated_MVMT_cm, class_names=class_names\n",
    ")\n",
    "\n",
    "site_accuracies = []\n",
    "site_recalls = []\n",
    "site_precisions = []\n",
    "\n",
    "\n",
    "for ortho_cm, multiview_cm, site_name in zip(ortho_matrices, MVMT_matrices, SITE_NAMES):\n",
    "    ortho_metrics = compute_comprehensive_metrics(ortho_cm, class_names=class_names)\n",
    "    multiview_metrics = compute_comprehensive_metrics(\n",
    "        multiview_cm, class_names=class_names\n",
    "    )\n",
    "    site_accuracies.extend([ortho_metrics[\"accuracy\"], multiview_metrics[\"accuracy\"]])\n",
    "    site_recalls.extend(\n",
    "        [\n",
    "            ortho_metrics[\"class_averaged_recall\"],\n",
    "            multiview_metrics[\"class_averaged_recall\"],\n",
    "        ]\n",
    "    )\n",
    "    site_precisions.extend(\n",
    "        [\n",
    "            ortho_metrics[\"class_averaged_precision\"],\n",
    "            multiview_metrics[\"class_averaged_precision\"],\n",
    "        ]\n",
    "    )\n",
    "\n",
    "\n",
    "site_accuracies.extend(\n",
    "    [aggregated_ortho_metrics[\"accuracy\"], aggregated_multiview_metrics[\"accuracy\"]]\n",
    ")\n",
    "site_recalls.extend(\n",
    "    [\n",
    "        aggregated_ortho_metrics[\"class_averaged_recall\"],\n",
    "        aggregated_multiview_metrics[\"class_averaged_recall\"],\n",
    "    ]\n",
    ")\n",
    "site_precisions.extend(\n",
    "    [\n",
    "        aggregated_ortho_metrics[\"class_averaged_precision\"],\n",
    "        aggregated_multiview_metrics[\"class_averaged_precision\"],\n",
    "    ]\n",
    ")\n",
    "\n",
    "site_accuracies =[\"Accuracy\"] + [f\"{x:.2f}\" for x in site_accuracies]\n",
    "site_recalls =   [\"Recall (CA)\"] + [f\"{x:.2f}\" for x in site_recalls]\n",
    "site_precisions =[\"Precision (CA)\"] + [f\"{x:.2f}\" for x in site_precisions]\n",
    "\n",
    "\n",
    "print(\" & \".join(site_accuracies) + \"\\\\\\\\ \\\\hline\")\n",
    "print(\" & \".join(site_recalls) + \"\\\\\\\\ \\\\hline\")\n",
    "print(\" & \".join(site_precisions) + \"\\\\\\\\ \\\\hline\")"
   ]
  },
  {
   "cell_type": "code",
   "execution_count": null,
   "metadata": {},
   "outputs": [],
   "source": []
  }
 ],
 "metadata": {
  "kernelspec": {
   "display_name": "Python [conda env:conda-MVMT-stable]",
   "language": "python",
   "name": "conda-env-conda-MVMT-stable-py"
  },
  "language_info": {
   "codemirror_mode": {
    "name": "ipython",
    "version": 3
   },
   "file_extension": ".py",
   "mimetype": "text/x-python",
   "name": "python",
   "nbconvert_exporter": "python",
   "pygments_lexer": "ipython3",
   "version": "3.9.18"
  }
 },
 "nbformat": 4,
 "nbformat_minor": 4
}
