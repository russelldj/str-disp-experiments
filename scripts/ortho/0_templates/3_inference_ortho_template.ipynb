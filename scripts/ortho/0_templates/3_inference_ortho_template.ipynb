{
 "cells": [
  {
   "cell_type": "markdown",
   "id": "2991b7d2-fb1c-4ea1-afb8-55814b9fc114",
   "metadata": {},
   "source": [
    "# Imports"
   ]
  },
  {
   "cell_type": "code",
   "execution_count": 1,
   "id": "c16c3d66-983d-439f-b2f5-0dc039f5e4ab",
   "metadata": {},
   "outputs": [
    {
     "name": "stderr",
     "output_type": "stream",
     "text": [
      "/ofo-share/repos-david/conda/envs/MVMT-stable/lib/python3.9/site-packages/tqdm/auto.py:21: TqdmWarning: IProgress not found. Please update jupyter and ipywidgets. See https://ipywidgets.readthedocs.io/en/stable/user_install.html\n",
      "  from .autonotebook import tqdm as notebook_tqdm\n"
     ]
    }
   ],
   "source": [
    "import logging\n",
    "from pathlib import Path\n",
    "import geopandas as gpd\n",
    "import numpy as np\n",
    "import sys\n",
    "import subprocess\n",
    "\n",
    "import matplotlib.pyplot as plt\n",
    "from imageio import imread\n",
    "\n",
    "from multiview_mapping_toolkit.segmentation import (\n",
    "    write_chips,\n",
    "    assemble_tiled_predictions,\n",
    ")\n",
    "from multiview_mapping_toolkit.utils.prediction_metrics import plot_geodata\n",
    "from multiview_mapping_toolkit.utils.geospatial import get_overlap_raster\n",
    "from multiview_mapping_toolkit.utils.prediction_metrics import compute_and_show_cf\n",
    "\n",
    "sys.path.append(\"../..\")\n",
    "from constants import (\n",
    "    get_inference_raster_filename,\n",
    "    get_inference_chips_folder,\n",
    "    get_work_dir,\n",
    "    get_prediction_folder,\n",
    "    get_IDs_to_labels,\n",
    "    get_aggregated_raster_pred_file,\n",
    "    get_figure_export_confusion_matrix_file,\n",
    "    get_numpy_export_confusion_matrix_file,\n",
    "    CHIP_SIZE,\n",
    "    INFERENCE_STRIDE,\n",
    "    INFERENCE_SCRIPT,\n",
    "    BATCH_SIZE,\n",
    "    INFERENCE_IMGS_EXT,\n",
    "    MMSEG_PYTHON,\n",
    "    MMSEG_UTILS_PYTHON,\n",
    "    LABELS_FILENAME,\n",
    "    LABELS_COLUMN,\n",
    "    VIS_PREDS_SCRIPT,\n",
    ")"
   ]
  },
  {
   "cell_type": "markdown",
   "id": "d1ed48e4-c1ad-4050-b72f-ace18877c3ca",
   "metadata": {},
   "source": [
    "# Define constants "
   ]
  },
  {
   "cell_type": "code",
   "execution_count": 2,
   "id": "9f2bdb74",
   "metadata": {},
   "outputs": [],
   "source": [
    "INFERENCE_SITE = \"none\"\n",
    "training_sites = [\"none\", \"none\"]"
   ]
  },
  {
   "cell_type": "code",
   "execution_count": 4,
   "id": "d477d12d",
   "metadata": {},
   "outputs": [],
   "source": [
    "logging.basicConfig(level=\"INFO\")"
   ]
  },
  {
   "cell_type": "code",
   "execution_count": 5,
   "id": "ef4a8667-f555-4190-a935-8fcbb9e4f163",
   "metadata": {},
   "outputs": [
    {
     "name": "stderr",
     "output_type": "stream",
     "text": [
      "/tmp/ipykernel_8413/4118039719.py:4: UserWarning: The GeoDataFrame you are attempting to plot is empty. Nothing has been displayed.\n",
      "  gdf.query(f\"fire=='{INFERENCE_SITE}'\").plot(LABEL_COLUMN, legend=True, vmin=0, vmax=9)\n"
     ]
    },
    {
     "data": {
      "text/plain": [
       "<Axes: >"
      ]
     },
     "execution_count": 5,
     "metadata": {},
     "output_type": "execute_result"
    },
    {
     "data": {
      "image/png": "[encoded data removed]",
      "text/plain": [
       "<Figure size 640x480 with 1 Axes>"
      ]
     },
     "metadata": {},
     "output_type": "display_data"
    }
   ],
   "source": [
    "# Load the data\n",
    "gdf = gpd.read_file(LABELS_FILENAME)\n",
    "\n",
    "gdf.query(f\"fire=='{INFERENCE_SITE}'\").plot(LABELS_COLUMN, legend=True, vmin=0, vmax=9)"
   ]
  },
  {
   "cell_type": "markdown",
   "id": "3314e6c9-ddc4-48a4-bac2-28b064d6571e",
   "metadata": {},
   "source": [
    "# Create training chips"
   ]
  },
  {
   "cell_type": "code",
   "execution_count": 6,
   "id": "22550823",
   "metadata": {},
   "outputs": [
    {
     "name": "stderr",
     "output_type": "stream",
     "text": [
      "INFO:rasterio._env:GDAL signalled an error: err_no=4, msg='/ofo-share/scratch-david/organized-str-disp-MVMT-experiments/per_site_processing/none/02_photogrammetry/exports/orthos/none.tif: No such file or directory'\n"
     ]
    },
    {
     "ename": "RasterioIOError",
     "evalue": "/ofo-share/scratch-david/organized-str-disp-MVMT-experiments/per_site_processing/none/02_photogrammetry/exports/orthos/none.tif: No such file or directory",
     "output_type": "error",
     "traceback": [
      "\u001b[0;31m---------------------------------------------------------------------------\u001b[0m",
      "\u001b[0;31mCPLE_OpenFailedError\u001b[0m                      Traceback (most recent call last)",
      "File \u001b[0;32mrasterio/_base.pyx:310\u001b[0m, in \u001b[0;36mrasterio._base.DatasetBase.__init__\u001b[0;34m()\u001b[0m\n",
      "File \u001b[0;32mrasterio/_base.pyx:221\u001b[0m, in \u001b[0;36mrasterio._base.open_dataset\u001b[0;34m()\u001b[0m\n",
      "File \u001b[0;32mrasterio/_err.pyx:221\u001b[0m, in \u001b[0;36mrasterio._err.exc_wrap_pointer\u001b[0;34m()\u001b[0m\n",
      "\u001b[0;31mCPLE_OpenFailedError\u001b[0m: /ofo-share/scratch-david/organized-str-disp-MVMT-experiments/per_site_processing/none/02_photogrammetry/exports/orthos/none.tif: No such file or directory",
      "\nDuring handling of the above exception, another exception occurred:\n",
      "\u001b[0;31mRasterioIOError\u001b[0m                           Traceback (most recent call last)",
      "Cell \u001b[0;32mIn[6], line 1\u001b[0m\n\u001b[0;32m----> 1\u001b[0m \u001b[43mwrite_chips\u001b[49m\u001b[43m(\u001b[49m\n\u001b[1;32m      2\u001b[0m \u001b[43m    \u001b[49m\u001b[43mraster_file\u001b[49m\u001b[38;5;241;43m=\u001b[39;49m\u001b[43mINFERENCE_RASTER_FILENAME\u001b[49m\u001b[43m,\u001b[49m\n\u001b[1;32m      3\u001b[0m \u001b[43m    \u001b[49m\u001b[43moutput_folder\u001b[49m\u001b[38;5;241;43m=\u001b[39;49m\u001b[43mINFERENCE_CHIPS_FOLDER\u001b[49m\u001b[43m,\u001b[49m\n\u001b[1;32m      4\u001b[0m \u001b[43m    \u001b[49m\u001b[43mchip_size\u001b[49m\u001b[38;5;241;43m=\u001b[39;49m\u001b[43mCHIP_SIZE\u001b[49m\u001b[43m,\u001b[49m\n\u001b[1;32m      5\u001b[0m \u001b[43m    \u001b[49m\u001b[43mchip_stride\u001b[49m\u001b[38;5;241;43m=\u001b[39;49m\u001b[43mINFERENCE_STRIDE\u001b[49m\u001b[43m,\u001b[49m\n\u001b[1;32m      6\u001b[0m \u001b[43m    \u001b[49m\u001b[43moutput_suffix\u001b[49m\u001b[38;5;241;43m=\u001b[39;49m\u001b[43mINFERENCE_IMGS_EXT\u001b[49m\u001b[43m,\u001b[49m\n\u001b[1;32m      7\u001b[0m \u001b[43m    \u001b[49m\u001b[43mROI_file\u001b[49m\u001b[38;5;241;43m=\u001b[39;49m\u001b[43mVECTOR_LABEL_FILENAME\u001b[49m\u001b[43m,\u001b[49m\n\u001b[1;32m      8\u001b[0m \u001b[43m)\u001b[49m\n",
      "File \u001b[0;32m/ofo-share/repos-david/multiview-mapping-toolkit-stable/multiview_mapping_toolkit/segmentation/ortho_segmentor.py:116\u001b[0m, in \u001b[0;36mwrite_chips\u001b[0;34m(raster_file, output_folder, chip_size, chip_stride, label_vector_file, label_column, label_remap, drop_transparency, output_suffix, ROI_file, background_ind, brightness_multiplier)\u001b[0m\n\u001b[1;32m    113\u001b[0m \u001b[38;5;28;01melse\u001b[39;00m:\n\u001b[1;32m    114\u001b[0m     label_gdf \u001b[38;5;241m=\u001b[39m \u001b[38;5;28;01mNone\u001b[39;00m\n\u001b[0;32m--> 116\u001b[0m \u001b[38;5;28;01mwith\u001b[39;00m \u001b[43mrio\u001b[49m\u001b[38;5;241;43m.\u001b[39;49m\u001b[43mopen\u001b[49m\u001b[43m(\u001b[49m\u001b[43mraster_file\u001b[49m\u001b[43m,\u001b[49m\u001b[43m \u001b[49m\u001b[38;5;124;43m\"\u001b[39;49m\u001b[38;5;124;43mr\u001b[39;49m\u001b[38;5;124;43m\"\u001b[39;49m\u001b[43m)\u001b[49m \u001b[38;5;28;01mas\u001b[39;00m dataset:\n\u001b[1;32m    117\u001b[0m     working_CRS \u001b[38;5;241m=\u001b[39m dataset\u001b[38;5;241m.\u001b[39mcrs\n\u001b[1;32m    118\u001b[0m     windows \u001b[38;5;241m=\u001b[39m create_windows(\n\u001b[1;32m    119\u001b[0m         dataset_h_w\u001b[38;5;241m=\u001b[39m(dataset\u001b[38;5;241m.\u001b[39mheight, dataset\u001b[38;5;241m.\u001b[39mwidth),\n\u001b[1;32m    120\u001b[0m         window_size\u001b[38;5;241m=\u001b[39mchip_size,\n\u001b[1;32m    121\u001b[0m         window_stride\u001b[38;5;241m=\u001b[39mchip_stride,\n\u001b[1;32m    122\u001b[0m     )\n",
      "File \u001b[0;32m/ofo-share/repos-david/conda/envs/MVMT-stable/lib/python3.9/site-packages/rasterio/env.py:451\u001b[0m, in \u001b[0;36mensure_env_with_credentials.<locals>.wrapper\u001b[0;34m(*args, **kwds)\u001b[0m\n\u001b[1;32m    448\u001b[0m     session \u001b[38;5;241m=\u001b[39m DummySession()\n\u001b[1;32m    450\u001b[0m \u001b[38;5;28;01mwith\u001b[39;00m env_ctor(session\u001b[38;5;241m=\u001b[39msession):\n\u001b[0;32m--> 451\u001b[0m     \u001b[38;5;28;01mreturn\u001b[39;00m \u001b[43mf\u001b[49m\u001b[43m(\u001b[49m\u001b[38;5;241;43m*\u001b[39;49m\u001b[43margs\u001b[49m\u001b[43m,\u001b[49m\u001b[43m \u001b[49m\u001b[38;5;241;43m*\u001b[39;49m\u001b[38;5;241;43m*\u001b[39;49m\u001b[43mkwds\u001b[49m\u001b[43m)\u001b[49m\n",
      "File \u001b[0;32m/ofo-share/repos-david/conda/envs/MVMT-stable/lib/python3.9/site-packages/rasterio/__init__.py:304\u001b[0m, in \u001b[0;36mopen\u001b[0;34m(fp, mode, driver, width, height, count, crs, transform, dtype, nodata, sharing, **kwargs)\u001b[0m\n\u001b[1;32m    301\u001b[0m path \u001b[38;5;241m=\u001b[39m _parse_path(raw_dataset_path)\n\u001b[1;32m    303\u001b[0m \u001b[38;5;28;01mif\u001b[39;00m mode \u001b[38;5;241m==\u001b[39m \u001b[38;5;124m\"\u001b[39m\u001b[38;5;124mr\u001b[39m\u001b[38;5;124m\"\u001b[39m:\n\u001b[0;32m--> 304\u001b[0m     dataset \u001b[38;5;241m=\u001b[39m \u001b[43mDatasetReader\u001b[49m\u001b[43m(\u001b[49m\u001b[43mpath\u001b[49m\u001b[43m,\u001b[49m\u001b[43m \u001b[49m\u001b[43mdriver\u001b[49m\u001b[38;5;241;43m=\u001b[39;49m\u001b[43mdriver\u001b[49m\u001b[43m,\u001b[49m\u001b[43m \u001b[49m\u001b[43msharing\u001b[49m\u001b[38;5;241;43m=\u001b[39;49m\u001b[43msharing\u001b[49m\u001b[43m,\u001b[49m\u001b[43m \u001b[49m\u001b[38;5;241;43m*\u001b[39;49m\u001b[38;5;241;43m*\u001b[39;49m\u001b[43mkwargs\u001b[49m\u001b[43m)\u001b[49m\n\u001b[1;32m    305\u001b[0m \u001b[38;5;28;01melif\u001b[39;00m mode \u001b[38;5;241m==\u001b[39m \u001b[38;5;124m\"\u001b[39m\u001b[38;5;124mr+\u001b[39m\u001b[38;5;124m\"\u001b[39m:\n\u001b[1;32m    306\u001b[0m     dataset \u001b[38;5;241m=\u001b[39m get_writer_for_path(path, driver\u001b[38;5;241m=\u001b[39mdriver)(\n\u001b[1;32m    307\u001b[0m         path, mode, driver\u001b[38;5;241m=\u001b[39mdriver, sharing\u001b[38;5;241m=\u001b[39msharing, \u001b[38;5;241m*\u001b[39m\u001b[38;5;241m*\u001b[39mkwargs\n\u001b[1;32m    308\u001b[0m     )\n",
      "File \u001b[0;32mrasterio/_base.pyx:312\u001b[0m, in \u001b[0;36mrasterio._base.DatasetBase.__init__\u001b[0;34m()\u001b[0m\n",
      "\u001b[0;31mRasterioIOError\u001b[0m: /ofo-share/scratch-david/organized-str-disp-MVMT-experiments/per_site_processing/none/02_photogrammetry/exports/orthos/none.tif: No such file or directory"
     ]
    }
   ],
   "source": [
    "INFERENCE_RASTER_FILENAME = get_inference_raster_filename(inference_site=INFERENCE_SITE)\n",
    "INFERENCE_CHIPS_FOLDER = get_inference_chips_folder(inference_site=INFERENCE_SITE)\n",
    "\n",
    "write_chips(\n",
    "    raster_file=INFERENCE_RASTER_FILENAME,\n",
    "    output_folder=INFERENCE_CHIPS_FOLDER,\n",
    "    chip_size=CHIP_SIZE,\n",
    "    chip_stride=INFERENCE_STRIDE,\n",
    "    output_suffix=INFERENCE_IMGS_EXT,\n",
    "    ROI_file=LABELS_FILENAME,\n",
    ")"
   ]
  },
  {
   "cell_type": "code",
   "execution_count": null,
   "id": "4dcfc5c9",
   "metadata": {},
   "outputs": [],
   "source": [
    "files = list(INFERENCE_CHIPS_FOLDER.glob(\"*\" + INFERENCE_IMGS_EXT))\n",
    "np.random.shuffle(files)\n",
    "for file in files[:3]:\n",
    "    plt.imshow(imread(file))\n",
    "    plt.show()"
   ]
  },
  {
   "cell_type": "code",
   "execution_count": null,
   "id": "cb127d2c",
   "metadata": {},
   "outputs": [],
   "source": [
    "WORK_DIR = get_work_dir(training_sites=training_sites, is_ortho=True)\n",
    "PREDICTIONS_FOLDER = get_prediction_folder(\n",
    "    prediction_site=INFERENCE_SITE, training_sites=training_sites\n",
    ")\n",
    "\n",
    "config_file = list(Path(WORK_DIR).glob(\"*py\"))[0]\n",
    "checkpoint_file = Path(WORK_DIR, \"iter_10000.pth\")\n",
    "\n",
    "subprocess.run(\n",
    "    f\"{MMSEG_PYTHON} {INFERENCE_SCRIPT} {config_file} {checkpoint_file} {INFERENCE_CHIPS_FOLDER} {PREDICTIONS_FOLDER} --batch-size {BATCH_SIZE}\",\n",
    "    shell=True,\n",
    ")"
   ]
  },
  {
   "cell_type": "code",
   "execution_count": null,
   "id": "1f747bbb",
   "metadata": {},
   "outputs": [],
   "source": [
    "# Add _vis to the folder name. Can't just add _vis to the str representation because it might have a trailing slash\n",
    "pred_vis_dir = Path(\n",
    "    Path(PREDICTIONS_FOLDER).parent, Path(PREDICTIONS_FOLDER).parts[-1] + \"_vis\"\n",
    ")\n",
    "STRIDE = 1\n",
    "\n",
    "subprocess.run(\n",
    "    f\"{MMSEG_UTILS_PYTHON} {VIS_PREDS_SCRIPT} --image-dir {INFERENCE_CHIPS_FOLDER} \"\n",
    "    + f\"--seg-dir {PREDICTIONS_FOLDER} --output-dir {pred_vis_dir} --stride {STRIDE}\",\n",
    "    shell=True,\n",
    ")"
   ]
  },
  {
   "cell_type": "code",
   "execution_count": null,
   "id": "68ef1618",
   "metadata": {},
   "outputs": [],
   "source": [
    "files = list(pred_vis_dir.glob(\"*\"))\n",
    "np.random.shuffle(files)\n",
    "for file in files[:3]:\n",
    "    print(file)\n",
    "    plt.imshow(imread(file))\n",
    "    plt.show()"
   ]
  },
  {
   "cell_type": "code",
   "execution_count": null,
   "id": "881c8edc",
   "metadata": {},
   "outputs": [],
   "source": [
    "pred_files = list(PREDICTIONS_FOLDER.glob(\"*\"))\n",
    "num_classes = len(get_IDs_to_labels())\n",
    "AGGREGATED_RASTER_PRED_FILE = get_aggregated_raster_pred_file(\n",
    "    training_sites=training_sites, inference_site=INFERENCE_SITE\n",
    ")\n",
    "\n",
    "assemble_tiled_predictions(\n",
    "    raster_input_file=INFERENCE_RASTER_FILENAME,\n",
    "    pred_files=pred_files,\n",
    "    num_classes=num_classes,\n",
    "    class_savefile=AGGREGATED_RASTER_PRED_FILE,\n",
    ")"
   ]
  },
  {
   "cell_type": "code",
   "execution_count": null,
   "id": "981422c6-f107-4dc9-b3bc-d61f515b8e65",
   "metadata": {},
   "outputs": [],
   "source": [
    "_, ax = plt.subplots(1, 1)\n",
    "plot_geodata(AGGREGATED_RASTER_PRED_FILE, ax=ax)"
   ]
  },
  {
   "cell_type": "markdown",
   "id": "552cbf21-2673-468c-ac5c-28e77f2eb225",
   "metadata": {},
   "source": [
    "# Assign labels to regions"
   ]
  },
  {
   "cell_type": "code",
   "execution_count": null,
   "id": "41498b46-e5c5-4893-9e6a-15d6115723b8",
   "metadata": {},
   "outputs": [],
   "source": [
    "class_fractions, IDs_in_original = get_overlap_raster(\n",
    "    unlabeled_df=LABELS_FILENAME,\n",
    "    classes_raster=AGGREGATED_RASTER_PRED_FILE,\n",
    "    num_classes=num_classes,\n",
    ")"
   ]
  },
  {
   "cell_type": "code",
   "execution_count": null,
   "id": "84c16aaf-cd10-48bf-bb28-829463aea03f",
   "metadata": {},
   "outputs": [],
   "source": [
    "pred_IDs = np.argmax(class_fractions, axis=1)\n",
    "IDS_TO_LABELS = get_IDs_to_labels()\n",
    "\n",
    "pred_class = [IDS_TO_LABELS[pred_ID] for pred_ID in pred_IDs]\n",
    "\n",
    "# Load the data\n",
    "gdf = gpd.read_file(LABELS_FILENAME)\n",
    "site_gdf = gdf.iloc[IDs_in_original]\n",
    "site_gdf[\"pred_class\"] = pred_class\n",
    "print(\"Ground truth\")\n",
    "site_gdf.plot(LABELS_COLUMN, legend=True, vmin=-0.5, vmax=9.5)\n",
    "print(\"Predicted\")\n",
    "site_gdf.plot(\"pred_class\", legend=True, vmin=-0.5, vmax=9.5)"
   ]
  },
  {
   "cell_type": "code",
   "execution_count": null,
   "id": "3df14176-4b68-4770-a569-f81a39fffcf2",
   "metadata": {},
   "outputs": [],
   "source": [
    "NUMPY_EXPORT_CONFUSION_MATRIX_FILE = get_numpy_export_confusion_matrix_file(\n",
    "    inference_site=INFERENCE_SITE, is_ortho=True\n",
    ")\n",
    "FIGURE_EXPORT_CONFUSION_MATRIX_FILE = get_figure_export_confusion_matrix_file(\n",
    "    inference_site=INFERENCE_SITE, is_ortho=True\n",
    ")\n",
    "\n",
    "gt_list = site_gdf[LABELS_COLUMN].tolist()\n",
    "pred_list = site_gdf[\"pred_class\"].tolist()\n",
    "print(f\"GT classes {gt_list}\")\n",
    "print(f\"Pred classes {pred_list}\")\n",
    "\n",
    "cf, classess, accuracy = compute_and_show_cf(\n",
    "    pred_labels=pred_list, gt_labels=gt_list, labels=list(IDS_TO_LABELS.values())\n",
    ")\n",
    "np.save(NUMPY_EXPORT_CONFUSION_MATRIX_FILE, cf)\n",
    "print(f\"Accuracy: {accuracy}\")\n",
    "# Export the image of the confusion matrix\n",
    "compute_and_show_cf(\n",
    "    pred_labels=pred_list,\n",
    "    gt_labels=gt_list,\n",
    "    labels=list(IDS_TO_LABELS.values()),\n",
    "    savefile=FIGURE_EXPORT_CONFUSION_MATRIX_FILE,\n",
    ")"
   ]
  }
 ],
 "metadata": {
  "kernelspec": {
   "display_name": "Python 3 (ipykernel)",
   "language": "python",
   "name": "python3"
  },
  "language_info": {
   "codemirror_mode": {
    "name": "ipython",
    "version": 3
   },
   "file_extension": ".py",
   "mimetype": "text/x-python",
   "name": "python",
   "nbconvert_exporter": "python",
   "pygments_lexer": "ipython3",
   "version": "3.11.7"
  }
 },
 "nbformat": 4,
 "nbformat_minor": 5
}
