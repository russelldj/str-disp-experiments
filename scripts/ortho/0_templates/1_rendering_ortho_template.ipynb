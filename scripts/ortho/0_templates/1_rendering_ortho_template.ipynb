{
 "cells": [
  {
   "cell_type": "markdown",
   "id": "2991b7d2-fb1c-4ea1-afb8-55814b9fc114",
   "metadata": {},
   "source": [
    "# Imports"
   ]
  },
  {
   "cell_type": "code",
   "execution_count": null,
   "id": "c16c3d66-983d-439f-b2f5-0dc039f5e4ab",
   "metadata": {},
   "outputs": [],
   "source": [
    "import logging\n",
    "import os\n",
    "from pathlib import Path\n",
    "import geopandas as gpd\n",
    "import numpy as np\n",
    "import sys\n",
    "\n",
    "from multiview_mapping_toolkit.segmentation import (\n",
    "    write_chips,\n",
    ")\n",
    "from multiview_mapping_toolkit.utils.visualization import show_segmentation_labels\n",
    "\n",
    "sys.path.append(\"../..\")\n",
    "from constants import (\n",
    "    LABELS_COLUMN,\n",
    "    LABELS_FILENAME,\n",
    "    get_IDs_to_labels,\n",
    "    get_training_raster_filename,\n",
    "    get_training_chips_folder,\n",
    ")"
   ]
  },
  {
   "cell_type": "markdown",
   "id": "d1ed48e4-c1ad-4050-b72f-ace18877c3ca",
   "metadata": {},
   "source": [
    "# Define constants "
   ]
  },
  {
   "cell_type": "code",
   "execution_count": null,
   "id": "9f2bdb74",
   "metadata": {},
   "outputs": [],
   "source": [
    "TRAINING_SITE = \"none\""
   ]
  },
  {
   "cell_type": "code",
   "execution_count": null,
   "id": "7ecdffd4-89e0-48c0-aad5-e453c99fea43",
   "metadata": {},
   "outputs": [],
   "source": [
    "CHIP_SIZE = 3648\n",
    "TRAINING_STRIDE = int(CHIP_SIZE / 2)\n",
    "INFERENCE_STRIDE = int(CHIP_SIZE / 2)\n",
    "TRAINING_IMGS_EXT = \".png\"\n",
    "TEST_IMGS_EXT = TRAINING_IMGS_EXT"
   ]
  },
  {
   "cell_type": "code",
   "execution_count": null,
   "id": "d477d12d",
   "metadata": {},
   "outputs": [],
   "source": [
    "logging.basicConfig(level=\"INFO\")"
   ]
  },
  {
   "cell_type": "code",
   "execution_count": null,
   "id": "ef4a8667-f555-4190-a935-8fcbb9e4f163",
   "metadata": {},
   "outputs": [],
   "source": [
    "# Load the data\n",
    "gdf = gpd.read_file(LABELS_FILENAME)\n",
    "\n",
    "gdf.query(f\"fire=='{TRAINING_SITE}'\").plot(LABELS_COLUMN, legend=True, vmin=0, vmax=9)\n",
    "class_names = np.unique(gpd.read_file(LABELS_FILENAME)[LABELS_COLUMN]).tolist()\n",
    "class_names"
   ]
  },
  {
   "cell_type": "markdown",
   "id": "3314e6c9-ddc4-48a4-bac2-28b064d6571e",
   "metadata": {},
   "source": [
    "# Create training chips"
   ]
  },
  {
   "cell_type": "code",
   "execution_count": null,
   "id": "22550823",
   "metadata": {},
   "outputs": [],
   "source": [
    "IDS_TO_LABELS = get_IDs_to_labels()\n",
    "TRAINING_RASTER_FILENAME = get_training_raster_filename(training_site=TRAINING_SITE)\n",
    "TRAINING_CHIPS_FOLDER = get_training_chips_folder(training_site=TRAINING_SITE)\n",
    "\n",
    "# Interchange the keys and values\n",
    "label_remap = {v: k for k, v in IDS_TO_LABELS.items()}\n",
    "\n",
    "write_chips(\n",
    "    raster_file=TRAINING_RASTER_FILENAME,\n",
    "    output_folder=TRAINING_CHIPS_FOLDER,\n",
    "    chip_size=CHIP_SIZE,\n",
    "    chip_stride=TRAINING_STRIDE,\n",
    "    label_vector_file=LABELS_FILENAME,\n",
    "    label_column=LABELS_COLUMN,\n",
    "    label_remap=label_remap,\n",
    "    output_suffix=TRAINING_IMGS_EXT,\n",
    "    ROI_file=LABELS_FILENAME,\n",
    ")"
   ]
  },
  {
   "cell_type": "code",
   "execution_count": null,
   "id": "4dcfc5c9",
   "metadata": {},
   "outputs": [],
   "source": [
    "show_segmentation_labels(\n",
    "    label_folder=Path(TRAINING_CHIPS_FOLDER, \"anns\"),\n",
    "    image_folder=Path(TRAINING_CHIPS_FOLDER, \"imgs\"),\n",
    "    image_suffix=TRAINING_IMGS_EXT,\n",
    ")"
   ]
  }
 ],
 "metadata": {
  "kernelspec": {
   "display_name": "Python [conda env:conda-MVMT-dev2]",
   "language": "python",
   "name": "conda-env-conda-MVMT-dev2-py"
  },
  "language_info": {
   "codemirror_mode": {
    "name": "ipython",
    "version": 3
   },
   "file_extension": ".py",
   "mimetype": "text/x-python",
   "name": "python",
   "nbconvert_exporter": "python",
   "pygments_lexer": "ipython3",
   "version": "3.9.18"
  }
 },
 "nbformat": 4,
 "nbformat_minor": 5
}
