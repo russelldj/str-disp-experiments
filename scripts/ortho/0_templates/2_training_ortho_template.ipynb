{
 "cells": [
  {
   "cell_type": "markdown",
   "id": "2991b7d2-fb1c-4ea1-afb8-55814b9fc114",
   "metadata": {},
   "source": [
    "# Imports"
   ]
  },
  {
   "cell_type": "code",
   "execution_count": null,
   "id": "c16c3d66-983d-439f-b2f5-0dc039f5e4ab",
   "metadata": {},
   "outputs": [],
   "source": [
    "import shutil\n",
    "import sys\n",
    "import logging\n",
    "from pathlib import Path\n",
    "import subprocess\n",
    "\n",
    "# Contributed library imports\n",
    "import numpy as np\n",
    "import matplotlib.pyplot as plt\n",
    "from imageio import imread\n",
    "from pathlib import Path\n",
    "\n",
    "sys.path.append(\"../..\")\n",
    "from constants import (\n",
    "    get_aggregated_images_folder,\n",
    "    get_aggregated_labels_folder,\n",
    "    get_IDs_to_labels,\n",
    "    get_training_chips_folder,\n",
    "    get_training_data_scratch_folder,\n",
    "    get_work_dir,\n",
    "    get_training_data_folder,\n",
    "    TRAINING_IMGS_EXT,\n",
    "    MMSEG_PYTHON,\n",
    "    TRAIN_SCRIPT,\n",
    "    MMSEG_UTILS_PYTHON,\n",
    "    FOLDER_TO_CITYSCAPES_SCRIPT,\n",
    ")"
   ]
  },
  {
   "cell_type": "markdown",
   "id": "d1ed48e4-c1ad-4050-b72f-ace18877c3ca",
   "metadata": {},
   "source": [
    "# Define constants "
   ]
  },
  {
   "cell_type": "code",
   "execution_count": null,
   "id": "9f2bdb74",
   "metadata": {},
   "outputs": [],
   "source": [
    "TRAINING_SITES = sorted([\"none\", \"none\"])"
   ]
  },
  {
   "cell_type": "code",
   "execution_count": null,
   "id": "d477d12d",
   "metadata": {},
   "outputs": [],
   "source": [
    "logging.basicConfig(level=\"INFO\")"
   ]
  },
  {
   "cell_type": "code",
   "execution_count": null,
   "id": "9d3d3615",
   "metadata": {},
   "outputs": [],
   "source": [
    "AGGREGATED_IMAGES_FOLDER = get_aggregated_images_folder(\n",
    "    training_sites=TRAINING_SITES, is_ortho=True\n",
    ")\n",
    "AGGREGATED_LABELS_FOLDER = get_aggregated_labels_folder(\n",
    "    training_sites=TRAINING_SITES, is_ortho=True\n",
    ")\n",
    "\n",
    "# We need to merge all the imagery together\n",
    "# I think this should be stored in the models folder, alongside the real models\n",
    "# It should be as simple as creating the folders and symlinking the existing ones into it\n",
    "Path(AGGREGATED_IMAGES_FOLDER).mkdir(exist_ok=True, parents=True)\n",
    "Path(AGGREGATED_LABELS_FOLDER).mkdir(exist_ok=True, parents=True)\n",
    "\n",
    "for training_site in TRAINING_SITES:\n",
    "\n",
    "    TRAINING_CHIPS_FOLDER = get_training_chips_folder(training_site=training_site)\n",
    "    render_folder = Path(TRAINING_CHIPS_FOLDER, \"anns\")\n",
    "    image_folder = Path(TRAINING_CHIPS_FOLDER, \"imgs\")\n",
    "\n",
    "    output_render_folder = Path(AGGREGATED_LABELS_FOLDER, training_site)\n",
    "    output_image_folder = Path(AGGREGATED_IMAGES_FOLDER, training_site)\n",
    "\n",
    "    # Remove if folder\n",
    "    shutil.rmtree(output_render_folder, ignore_errors=True)\n",
    "    shutil.rmtree(output_image_folder, ignore_errors=True)\n",
    "    # Unlink if symlink\n",
    "    output_render_folder.unlink(missing_ok=True)\n",
    "    output_image_folder.unlink(missing_ok=True)\n",
    "    print(output_render_folder)\n",
    "    shutil.copytree(render_folder, output_render_folder)\n",
    "    shutil.copytree(image_folder, output_image_folder)"
   ]
  },
  {
   "cell_type": "code",
   "execution_count": null,
   "id": "f632a8a4",
   "metadata": {},
   "outputs": [],
   "source": [
    "IDs_TO_LABELS = get_IDs_to_labels()\n",
    "TRAINING_DATA_FOLDER_SCRATCH = get_training_data_scratch_folder(\n",
    "    training_sites=TRAINING_SITES\n",
    ")\n",
    "\n",
    "class_names = list(IDs_TO_LABELS.values())\n",
    "class_names_str = \" \".join(class_names)\n",
    "print(class_names_str)\n",
    "\n",
    "run_str = (\n",
    "    f\"{MMSEG_UTILS_PYTHON} {FOLDER_TO_CITYSCAPES_SCRIPT} --images-folder {AGGREGATED_IMAGES_FOLDER}\"\n",
    "    + f\" --labels-folder {AGGREGATED_LABELS_FOLDER} --output-folder {TRAINING_DATA_FOLDER_SCRATCH} \"\n",
    "    + f\"--classes {class_names_str} --image-ext {TRAINING_IMGS_EXT} --remove-old \"\n",
    ")\n",
    "print(run_str)\n",
    "subprocess.run(\n",
    "    run_str,\n",
    "    shell=True,\n",
    ")"
   ]
  },
  {
   "cell_type": "markdown",
   "id": "cc7e1d9b",
   "metadata": {},
   "source": [
    "# Show some of the formatted example images"
   ]
  },
  {
   "cell_type": "code",
   "execution_count": null,
   "id": "97f311c3",
   "metadata": {},
   "outputs": [],
   "source": [
    "cmap_file = Path(TRAINING_DATA_FOLDER_SCRATCH, \"colormap.png\")\n",
    "plt.imshow(imread(cmap_file))\n",
    "plt.show()\n",
    "\n",
    "vis_folder = Path(TRAINING_DATA_FOLDER_SCRATCH, \"vis\")\n",
    "vis_files = list(vis_folder.rglob(\"*\" + TRAINING_IMGS_EXT))\n",
    "for file in np.random.choice(vis_files, 10):\n",
    "    print(f\"showing {file}\")\n",
    "    plt.imshow(imread(file))\n",
    "    plt.show()"
   ]
  },
  {
   "cell_type": "markdown",
   "id": "6d364546",
   "metadata": {},
   "source": [
    "# Train a model"
   ]
  },
  {
   "cell_type": "code",
   "execution_count": null,
   "id": "5a52d089",
   "metadata": {},
   "outputs": [],
   "source": [
    "WORK_DIR = get_work_dir(training_sites=TRAINING_SITES)\n",
    "# Identify the config file as the only python file in the\n",
    "config_file = list(Path(TRAINING_DATA_FOLDER_SCRATCH).glob(\"*py\"))[0]\n",
    "subprocess.run(\n",
    "    f\"{MMSEG_PYTHON} {TRAIN_SCRIPT} \" + f\"{config_file} --work-dir {WORK_DIR}\",\n",
    "    shell=True,\n",
    ")"
   ]
  },
  {
   "cell_type": "code",
   "execution_count": null,
   "id": "597aa776-e981-4a36-8374-ffda760eac42",
   "metadata": {},
   "outputs": [],
   "source": [
    "TRAINING_DATA_FOLDER = get_training_data_folder()\n",
    "shutil.copytree(\n",
    "    src=TRAINING_DATA_FOLDER_SCRATCH, dst=TRAINING_DATA_FOLDER, dirs_exist_ok=True\n",
    ")"
   ]
  }
 ],
 "metadata": {
  "kernelspec": {
   "display_name": "Python [conda env:conda-MVMT-dev]",
   "language": "python",
   "name": "conda-env-conda-MVMT-dev-py"
  },
  "language_info": {
   "codemirror_mode": {
    "name": "ipython",
    "version": 3
   },
   "file_extension": ".py",
   "mimetype": "text/x-python",
   "name": "python",
   "nbconvert_exporter": "python",
   "pygments_lexer": "ipython3",
   "version": "3.9.18"
  }
 },
 "nbformat": 4,
 "nbformat_minor": 5
}
