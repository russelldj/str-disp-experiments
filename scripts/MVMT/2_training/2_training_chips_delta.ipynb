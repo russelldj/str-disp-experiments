{
 "cells": [
  {
   "cell_type": "code",
   "execution_count": 1,
   "metadata": {},
   "outputs": [],
   "source": [
    "# Standard library imports\n",
    "import subprocess\n",
    "import json\n",
    "import shutil\n",
    "import sys\n",
    "\n",
    "# Contributed library imports\n",
    "import numpy as np\n",
    "import matplotlib.pyplot as plt\n",
    "from imageio import imread\n",
    "from pathlib import Path\n",
    "\n",
    "# Imports from the constants\n",
    "sys.path.append(\"../..\")\n",
    "from constants import (\n",
    "    get_aggregated_images_folder,\n",
    "    get_aggregated_labels_folder,\n",
    "    get_images_near_labels_folder,\n",
    "    get_render_folder,\n",
    "    get_training_data_scratch_folder,\n",
    "    MMSEG_PYTHON,\n",
    "    TRAIN_SCRIPT,\n",
    "    MMSEG_UTILS_PYTHON,\n",
    "    FOLDER_TO_CITYSCAPES_SCRIPT,\n",
    "    get_work_dir,\n",
    ")"
   ]
  },
  {
   "cell_type": "markdown",
   "metadata": {},
   "source": [
    "# Set constants\n",
    "You should be able to define most of the behavior from these constants"
   ]
  },
  {
   "cell_type": "code",
   "execution_count": 2,
   "metadata": {},
   "outputs": [],
   "source": [
    "TRAINING_SITES = sorted([\"chips\", \"delta\"])"
   ]
  },
  {
   "cell_type": "code",
   "execution_count": 3,
   "metadata": {},
   "outputs": [
    {
     "ename": "FileNotFoundError",
     "evalue": "[Errno 2] No such file or directory: '/ofo-share/scratch-david/organized-str-disp-MVMT-experiments/per_site_processing/chips/03_training_data/renders'",
     "output_type": "error",
     "traceback": [
      "\u001b[0;31m---------------------------------------------------------------------------\u001b[0m",
      "\u001b[0;31mFileNotFoundError\u001b[0m                         Traceback (most recent call last)",
      "Cell \u001b[0;32mIn[3], line 24\u001b[0m\n\u001b[1;32m     21\u001b[0m shutil\u001b[38;5;241m.\u001b[39mrmtree(output_render_folder, ignore_errors\u001b[38;5;241m=\u001b[39m\u001b[38;5;28;01mTrue\u001b[39;00m)\n\u001b[1;32m     22\u001b[0m shutil\u001b[38;5;241m.\u001b[39mrmtree(output_image_folder, ignore_errors\u001b[38;5;241m=\u001b[39m\u001b[38;5;28;01mTrue\u001b[39;00m)\n\u001b[0;32m---> 24\u001b[0m \u001b[43mshutil\u001b[49m\u001b[38;5;241;43m.\u001b[39;49m\u001b[43mcopytree\u001b[49m\u001b[43m(\u001b[49m\u001b[43mrender_folder\u001b[49m\u001b[43m,\u001b[49m\u001b[43m \u001b[49m\u001b[43moutput_render_folder\u001b[49m\u001b[43m)\u001b[49m\n\u001b[1;32m     25\u001b[0m shutil\u001b[38;5;241m.\u001b[39mcopytree(images_near_labels_folder, output_image_folder)\n",
      "File \u001b[0;32m/ofo-share/repos-david/conda/envs/MVMT-stable/lib/python3.9/shutil.py:566\u001b[0m, in \u001b[0;36mcopytree\u001b[0;34m(src, dst, symlinks, ignore, copy_function, ignore_dangling_symlinks, dirs_exist_ok)\u001b[0m\n\u001b[1;32m    527\u001b[0m \u001b[38;5;250m\u001b[39m\u001b[38;5;124;03m\"\"\"Recursively copy a directory tree and return the destination directory.\u001b[39;00m\n\u001b[1;32m    528\u001b[0m \n\u001b[1;32m    529\u001b[0m \u001b[38;5;124;03mIf exception(s) occur, an Error is raised with a list of reasons.\u001b[39;00m\n\u001b[0;32m   (...)\u001b[0m\n\u001b[1;32m    563\u001b[0m \u001b[38;5;124;03m`src` tree.\u001b[39;00m\n\u001b[1;32m    564\u001b[0m \u001b[38;5;124;03m\"\"\"\u001b[39;00m\n\u001b[1;32m    565\u001b[0m sys\u001b[38;5;241m.\u001b[39maudit(\u001b[38;5;124m\"\u001b[39m\u001b[38;5;124mshutil.copytree\u001b[39m\u001b[38;5;124m\"\u001b[39m, src, dst)\n\u001b[0;32m--> 566\u001b[0m \u001b[38;5;28;01mwith\u001b[39;00m \u001b[43mos\u001b[49m\u001b[38;5;241;43m.\u001b[39;49m\u001b[43mscandir\u001b[49m\u001b[43m(\u001b[49m\u001b[43msrc\u001b[49m\u001b[43m)\u001b[49m \u001b[38;5;28;01mas\u001b[39;00m itr:\n\u001b[1;32m    567\u001b[0m     entries \u001b[38;5;241m=\u001b[39m \u001b[38;5;28mlist\u001b[39m(itr)\n\u001b[1;32m    568\u001b[0m \u001b[38;5;28;01mreturn\u001b[39;00m _copytree(entries\u001b[38;5;241m=\u001b[39mentries, src\u001b[38;5;241m=\u001b[39msrc, dst\u001b[38;5;241m=\u001b[39mdst, symlinks\u001b[38;5;241m=\u001b[39msymlinks,\n\u001b[1;32m    569\u001b[0m                  ignore\u001b[38;5;241m=\u001b[39mignore, copy_function\u001b[38;5;241m=\u001b[39mcopy_function,\n\u001b[1;32m    570\u001b[0m                  ignore_dangling_symlinks\u001b[38;5;241m=\u001b[39mignore_dangling_symlinks,\n\u001b[1;32m    571\u001b[0m                  dirs_exist_ok\u001b[38;5;241m=\u001b[39mdirs_exist_ok)\n",
      "\u001b[0;31mFileNotFoundError\u001b[0m: [Errno 2] No such file or directory: '/ofo-share/scratch-david/organized-str-disp-MVMT-experiments/per_site_processing/chips/03_training_data/renders'"
     ]
    }
   ],
   "source": [
    "AGGREGATED_IMAGES_FOLDER = get_aggregated_images_folder(training_sites=TRAINING_SITES)\n",
    "AGGREGATED_LABELS_FOLDER = get_aggregated_labels_folder(training_sites=TRAINING_SITES)\n",
    "\n",
    "# We need to merge all the imagery together\n",
    "# I think this should be stored in the models folder, alongside the real models\n",
    "# It should be as simple as creating the folders and symlinking the existing ones into it\n",
    "Path(AGGREGATED_IMAGES_FOLDER).mkdir(exist_ok=True, parents=True)\n",
    "Path(AGGREGATED_LABELS_FOLDER).mkdir(exist_ok=True, parents=True)\n",
    "\n",
    "for training_site in TRAINING_SITES:\n",
    "    render_folder = get_render_folder(training_site)\n",
    "    images_near_labels_folder = get_images_near_labels_folder(training_site)\n",
    "\n",
    "    output_render_folder = Path(AGGREGATED_LABELS_FOLDER, training_site)\n",
    "    output_image_folder = Path(AGGREGATED_IMAGES_FOLDER, training_site)\n",
    "\n",
    "    # Unlink if symlink\n",
    "    output_render_folder.unlink(missing_ok=True)\n",
    "    output_image_folder.unlink(missing_ok=True)\n",
    "    # Remove if folder\n",
    "    shutil.rmtree(output_render_folder, ignore_errors=True)\n",
    "    shutil.rmtree(output_image_folder, ignore_errors=True)\n",
    "\n",
    "    shutil.copytree(render_folder, output_render_folder)\n",
    "    shutil.copytree(images_near_labels_folder, output_image_folder)"
   ]
  },
  {
   "cell_type": "code",
   "execution_count": null,
   "metadata": {},
   "outputs": [],
   "source": [
    "TRAINING_DATA_FOLDER_SCRATCH = get_training_data_scratch_folder(\n",
    "    training_sites=TRAINING_SITES\n",
    ")\n",
    "\n",
    "# Use one of the render folders, assuming they are all the same\n",
    "IDs_to_labels_file = Path(render_folder, \"IDs_to_labels.json\")\n",
    "with open(IDs_to_labels_file, \"r\") as infile:\n",
    "    data = json.load(infile)\n",
    "\n",
    "class_names = list(data.values())\n",
    "class_names_str = \" \".join(class_names)\n",
    "print(class_names_str)\n",
    "\n",
    "run_str = (\n",
    "    f\"{MMSEG_UTILS_PYTHON} {FOLDER_TO_CITYSCAPES_SCRIPT} --images-folder {AGGREGATED_IMAGES_FOLDER}\"\n",
    "    + f\" --labels-folder {AGGREGATED_LABELS_FOLDER} --output-folder {TRAINING_DATA_FOLDER_SCRATCH} --classes {class_names_str} --remove-old\"\n",
    ")\n",
    "print(run_str)\n",
    "subprocess.run(\n",
    "    run_str,\n",
    "    shell=True,\n",
    ")"
   ]
  },
  {
   "cell_type": "markdown",
   "metadata": {},
   "source": [
    "# Show some of the formatted example images"
   ]
  },
  {
   "cell_type": "code",
   "execution_count": null,
   "metadata": {},
   "outputs": [],
   "source": [
    "cmap_file = Path(TRAINING_DATA_FOLDER_SCRATCH, \"colormap.png\")\n",
    "plt.imshow(imread(cmap_file))\n",
    "plt.show()\n",
    "\n",
    "vis_folder = Path(TRAINING_DATA_FOLDER_SCRATCH, \"vis\")\n",
    "vis_files = list(vis_folder.rglob(\"*JPG\"))\n",
    "for file in np.random.choice(vis_files, 10):\n",
    "    print(f\"showing {file}\")\n",
    "    plt.imshow(imread(file))\n",
    "    plt.show()"
   ]
  },
  {
   "cell_type": "markdown",
   "metadata": {},
   "source": [
    "# Train a model"
   ]
  },
  {
   "cell_type": "code",
   "execution_count": null,
   "metadata": {},
   "outputs": [],
   "source": [
    "WORK_DIR = get_work_dir(training_sites=TRAINING_SITES)\n",
    "\n",
    "# Identify the config file as the only python file in the\n",
    "config_file = list(Path(TRAINING_DATA_FOLDER_SCRATCH).glob(\"*py\"))[0]\n",
    "subprocess.run(\n",
    "    f\"{MMSEG_PYTHON} {TRAIN_SCRIPT} {config_file} --work-dir {WORK_DIR}\", shell=True\n",
    ")"
   ]
  }
 ],
 "metadata": {
  "kernelspec": {
   "display_name": "MVMT-stable",
   "language": "python",
   "name": "python3"
  },
  "language_info": {
   "codemirror_mode": {
    "name": "ipython",
    "version": 3
   },
   "file_extension": ".py",
   "mimetype": "text/x-python",
   "name": "python",
   "nbconvert_exporter": "python",
   "pygments_lexer": "ipython3",
   "version": "3.9.18"
  },
  "widgets": {
   "application/vnd.jupyter.widget-state+json": {
    "state": {},
    "version_major": 2,
    "version_minor": 0
   }
  }
 },
 "nbformat": 4,
 "nbformat_minor": 4
}
