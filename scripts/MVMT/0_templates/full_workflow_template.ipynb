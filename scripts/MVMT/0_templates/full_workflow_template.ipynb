{
 "cells": [
  {
   "cell_type": "code",
   "execution_count": 1,
   "metadata": {},
   "outputs": [
    {
     "name": "stderr",
     "output_type": "stream",
     "text": [
      "/ofo-share/repos-david/conda/envs/MVMT-dev/lib/python3.9/site-packages/tqdm/auto.py:21: TqdmWarning: IProgress not found. Please update jupyter and ipywidgets. See https://ipywidgets.readthedocs.io/en/stable/user_install.html\n",
      "  from .autonotebook import tqdm as notebook_tqdm\n"
     ]
    }
   ],
   "source": [
    "# Standard library imports\n",
    "import subprocess\n",
    "import os\n",
    "\n",
    "# Contributed library imports\n",
    "import geopandas as gpd\n",
    "import numpy as np\n",
    "import matplotlib.pyplot as plt\n",
    "from imageio import imread\n",
    "from pathlib import Path\n",
    "\n",
    "# Our imports\n",
    "from multiview_mapping_toolkit.cameras.derived_cameras import MetashapeCameraSet\n",
    "from multiview_mapping_toolkit.meshes import TexturedPhotogrammetryMesh\n",
    "from multiview_mapping_toolkit.utils.geospatial import ensure_geometric_CRS\n",
    "from multiview_mapping_toolkit.constants import (\n",
    "    NULL_TEXTURE_INT_VALUE,\n",
    ")\n",
    "from multiview_mapping_toolkit.segmentation import (\n",
    "    LookUpSegmentor,\n",
    "    SegmentorPhotogrammetryCameraSet,\n",
    ")"
   ]
  },
  {
   "cell_type": "markdown",
   "metadata": {},
   "source": [
    "# Set constants\n",
    "You should be able to define most of the behavior from these constants"
   ]
  },
  {
   "cell_type": "code",
   "execution_count": null,
   "metadata": {},
   "outputs": [],
   "source": [
    "short_model_name = \"chips\"\n",
    "long_model_name = \"ChipsB\"\n",
    "short_pred_name = \"delta\"\n",
    "long_pred_name = \"DeltaB\""
   ]
  },
  {
   "cell_type": "code",
   "execution_count": 2,
   "metadata": {},
   "outputs": [],
   "source": [
    "## Parameters to control the outputs\n",
    "# Repeat the labeling process\n",
    "RETEXTURE = True\n",
    "# Points less than this height (meters) above the DTM are considered ground\n",
    "HEIGHT_ABOVE_GROUND_THRESH = 2\n",
    "# The image is downsampled to this fraction for accelerated rendering\n",
    "RENDER_IMAGE_SCALE = 0.25\n",
    "# Cameras within this distance of the traing data are used in the rendering process\n",
    "BUFFER_RADIUS_METERS = 50\n",
    "# Downsample target\n",
    "DOWNSAMPLE_TARGET = 1\n",
    "# Image downsample factor for aggregation\n",
    "AGGREGATE_IMAGE_SCALE = 0.25\n",
    "\n",
    "## Python interpreter and script locations\n",
    "MMSEG_UTILS_PYTHON = \"/ofo-share/repos-david/conda/envs/mmseg-utils/bin/python\"\n",
    "MMSEG_PYTHON = \"/ofo-share/repos-david/conda/envs/openmmlab/bin/python\"\n",
    "\n",
    "FOLDER_TO_CITYSCAPES_SCRIPT = \"/ofo-share/repos-david/mmsegmentation_utils/dev/dataset_creation/folder_to_cityscapes.py\"\n",
    "VIS_PREDS_SCRIPT = \"/ofo-share/repos-david/mmsegmentation_utils/dev/visualization/visualize_semantic_labels.py\"\n",
    "TRAIN_SCRIPT = \"/ofo-share/repos-david/mmsegmentation/tools/train.py\"\n",
    "INFERENCE_SCRIPT = \"/ofo-share/repos-david/mmsegmentation/tools/inference.py\"\n",
    "\n",
    "# One folder up from scripts\n",
    "PROJECT_ROOT = Path(os.path.abspath(\"\"), \"..\", \"..\", \"..\").resolve()\n",
    "SCRATCH_ROOT = Path(Path.home(), \"scratch\", \"organized_str_disp_MVMT_experiments\")\n",
    "\n",
    "## Define the inputs\n",
    "# The input labels\n",
    "LABELS_FILENAME = Path(PROJECT_ROOT, \"field_ref\", \"crowns_drone_w_field_data.geojson\")\n",
    "\n",
    "# The digital elevation map exported by Metashape\n",
    "DTM_FILE = Path(\n",
    "    PROJECT_ROOT,\n",
    "    \"per_site_processing\",\n",
    "    short_model_name,\n",
    "    \"02_photogrammetry\",\n",
    "    \"exports\",\n",
    "    \"dtms\",\n",
    "    f\"{short_model_name}.tif\",\n",
    ")\n",
    "# The image folder used to create the Metashape project\n",
    "IMAGE_FOLDER = f\"/ofo-share/str-disp_drone-data-partial/str-disp_drone-data_imagery-missions/{long_model_name}\"\n",
    "\n",
    "## Define the intermediate results\n",
    "LABELED_MESH_FILENAME = Path(\n",
    "    PROJECT_ROOT,\n",
    "    \"per_site_processing\",\n",
    "    short_model_name,\n",
    "    \"03_training_data\",\n",
    "    \"labeled.ply\",\n",
    ")\n",
    "\n",
    "# Where to save the rendering label images\n",
    "RENDER_FOLDER = Path(\n",
    "    SCRATCH_ROOT, \"per_site_processing\", short_model_name, \"03_training_data\", \"renders\"\n",
    ")\n",
    "\n",
    "TRAINING_DATA_FOLDER = Path(\n",
    "    SCRATCH_ROOT,\n",
    "    \"per_site_processing\",\n",
    "    short_model_name,\n",
    "    \"03_training_data\",\n",
    "    f\"{short_model_name}_80m_only_no_ground\",\n",
    ")\n",
    "WORK_DIR = Path(\n",
    "    PROJECT_ROOT, \"models\", \"per_site\", short_model_name, \"80_meter_with_ground\"\n",
    ")\n",
    "\n",
    "\n",
    "CHIPS_MESH_FILENAME = Path(\n",
    "    PROJECT_ROOT,\n",
    "    \"per_site_processing\",\n",
    "    \"chips\",\n",
    "    \"02_photogrammetry\",\n",
    "    \"exports\",\n",
    "    \"meshes\",\n",
    "    \"ChipsB-120m_20230309T0502_w-mesh_w-80m_20231114T2219.ply\",\n",
    ")\n",
    "# The camera file exported from Metashape\n",
    "CHIPS_CAMERAS_FILENAME = Path(\n",
    "    PROJECT_ROOT,\n",
    "    \"per_site_processing\",\n",
    "    \"chips\",\n",
    "    \"02_photogrammetry\",\n",
    "    \"exports\",\n",
    "    \"cameras\",\n",
    "    \"ChipsB-120m_20230309T0502_w-mesh_w-80m_20231114T2219_abs_paths.xml\",\n",
    ")\n",
    "# The mesh exported from Metashape\n",
    "DELTA_MESH_FILENAME = Path(\n",
    "    PROJECT_ROOT,\n",
    "    \"per_site_processing\",\n",
    "    \"delta\",\n",
    "    \"02_photogrammetry\",\n",
    "    \"exports\",\n",
    "    \"meshes\",\n",
    "    \"DeltaB-120m_20230310T1701_w-mesh_w-80m_20231117T1746.ply\",\n",
    ")\n",
    "# The camera file exported from Metashape\n",
    "DELTA_CAMERAS_FILENAME = Path(\n",
    "    PROJECT_ROOT,\n",
    "    \"per_site_processing\",\n",
    "    \"delta\",\n",
    "    \"02_photogrammetry\",\n",
    "    \"exports\",\n",
    "    \"cameras\",\n",
    "    \"DeltaB-120m_20230310T1701_w-mesh_w-80m_20231117T1746_abs_paths.xml\",\n",
    ")\n",
    "\n",
    "PREDICTED_VECTOR_LABELS_FILE = Path(\n",
    "    PROJECT_ROOT,\n",
    "    \"per_site_processing\",\n",
    "    short_pred_name,\n",
    "    \"05_processed_predictions\",\n",
    "    f\"{short_pred_name}_80m_chips_model.geojson\",\n",
    ")\n",
    "NUMPY_EXPORT_FACES_TEXTURE_FILE = Path(\n",
    "    PROJECT_ROOT,\n",
    "    \"per_site_processing\",\n",
    "    short_pred_name,\n",
    "    \"05_processed_predictions\",\n",
    "    f\"{short_pred_name}_80m_chips_model.npy\",\n",
    ")\n",
    "PREDICTION_DTM_FILE = Path(\n",
    "    PROJECT_ROOT,\n",
    "    \"per_site_processing\",\n",
    "    short_pred_name,\n",
    "    \"02_photogrammetry\",\n",
    "    \"exports\",\n",
    "    \"dtms\",\n",
    "    f\"{short_pred_name}.tif\",\n",
    ")\n",
    "TRAINING_IMAGES_NEAR_GT_FOLDER = Path()\n",
    "INFERENCE_IMAGES_NEAR_GT_FOLDER = Path()\n",
    "INFERENCE_PREDICTIONS_NEAR_GT_FOLDER = Path(\n",
    "    PROJECT_ROOT,\n",
    "    \"per_site_processing\",\n",
    "    short_pred_name,\n",
    "    \"04_model_preds\",\n",
    "    \"chips_80m_model\",\n",
    "    short_pred_name,\n",
    ")\n",
    "\n",
    "if short_model_name == \"chips\":\n",
    "    # The mesh exported from Metashape\n",
    "    INFERENCE_IMAGE_FOLDER = \"/ofo-share/str-disp_drone-data-partial/str-disp_drone-data_imagery-missions/DeltaB/DeltaB_80m\"\n",
    "    PREDICTIONS_FOLDER = \"/ofo-share/scratch-david/organized-str-disp-MVMT-experiments/\"\n",
    "    MESH_FILENAME = CHIPS_MESH_FILENAME\n",
    "    CAMERAS_FILENAME = CHIPS_CAMERAS_FILENAME\n",
    "    PREDICTION_MESH_FILENAME = DELTA_MESH_FILENAME\n",
    "    PREDICTION_CAMERAS_FILENAME = DELTA_CAMERAS_FILENAME\n",
    "elif short_model_name == \"delta\":\n",
    "    INFERENCE_IMAGE_FOLDER = \"/ofo-share/scratch-david/organized-str-disp-MVMT-experiments/per_site_processing/chips/03_training_data/images_near_labels/ChipsB_80m_2021_complete\"\n",
    "    PREDICTIONS_FOLDER = \"/ofo-share/scratch-david/organized-str-disp-MVMT-experiments/per_site_processing/chips/04_model_preds/delta_80m_model/ChipsB_80m_2021_complete\"\n",
    "    MESH_FILENAME = DELTA_MESH_FILENAME\n",
    "    CAMERAS_FILENAME = DELTA_CAMERAS_FILENAME\n",
    "    PREDICTION_MESH_FILENAME = CHIPS_MESH_FILENAME\n",
    "    PREDICTION_CAMERAS_FILENAME = CHIPS_CAMERAS_FILENAME"
   ]
  },
  {
   "cell_type": "markdown",
   "metadata": {},
   "source": [
    "# Geospatial processing\n",
    "\n",
    "Preprocess the geospatial data to be as expected."
   ]
  },
  {
   "cell_type": "code",
   "execution_count": 3,
   "metadata": {},
   "outputs": [
    {
     "data": {
      "text/plain": [
       "<Axes: >"
      ]
     },
     "execution_count": 3,
     "metadata": {},
     "output_type": "execute_result"
    },
    {
     "data": {
      "image/png": "[encoded data removed]",
      "text/plain": [
       "<Figure size 640x480 with 1 Axes>"
      ]
     },
     "metadata": {},
     "output_type": "display_data"
    }
   ],
   "source": [
    "# Load the data\n",
    "gdf = gpd.read_file(LABELS_FILENAME)\n",
    "# Ensure that the CRS is geometric so we can buffer\n",
    "gdf = ensure_geometric_CRS(gdf)\n",
    "\n",
    "gdf.query(f\"fire=='{short_model_name}'\").plot(\n",
    "    \"species_observed\", legend=True, vmin=0, vmax=9\n",
    ")"
   ]
  },
  {
   "cell_type": "markdown",
   "metadata": {},
   "source": [
    "# Load the mesh and read texture from geopolygon"
   ]
  },
  {
   "cell_type": "code",
   "execution_count": 4,
   "metadata": {},
   "outputs": [
    {
     "name": "stdout",
     "output_type": "stream",
     "text": [
      "Loading transform to EPSG:4326\n",
      "Loading mesh\n",
      "Reading the mesh\n",
      "Selecting an ROI from mesh\n",
      "Standardizing ROI\n",
      "Dissolving ROI\n",
      "Setting CRS and buffering ROI\n",
      "Dissolving buffered ROI\n",
      "Extracting verts for dataframe\n",
      "Checking intersection of verts with ROI\n",
      "Extracting points from pyvista mesh\n",
      "Extraction surface from subset mesh\n",
      "Extracting faces from mesh\n",
      "Loading texture\n",
      "Could not read texture as a scalar from the pyvista mesh\n",
      "Could not read texture as a numpy file\n"
     ]
    },
    {
     "name": "stderr",
     "output_type": "stream",
     "text": [
      "Sampling values from raster /ofo-share/scratch-david/organized-str-disp-MVMT-experiments/per_site_processing/chips/02_photogrammetry/exports/dtms/chips.tif: 100%|██████████| 520337/520337 [00:20<00:00, 25207.22it/s]\n"
     ]
    },
    {
     "name": "stdout",
     "output_type": "stream",
     "text": [
      "This method will be deprecated in favor f get_IDs_to_labels since it doesn't handle non-sequential indices\n",
      "{0: 'ABCO', 1: 'CADE', 2: 'PILA', 3: 'PIPO', 4: 'PSME', 5: 'QUEV', 6: 'SNAG', 7: 'ground'}\n",
      "This method will be deprecated in favor f get_IDs_to_labels since it doesn't handle non-sequential indices\n",
      "class names ['ABCO', 'CADE', 'PILA', 'PIPO', 'PSME', 'QUEV', 'SNAG', 'ground']\n"
     ]
    }
   ],
   "source": [
    "# Create a labeled version of the mesh from the field data\n",
    "# if not present or requested\n",
    "if not Path(LABELED_MESH_FILENAME).is_file() or RETEXTURE:\n",
    "    # Load the downsampled mesh and apply the texture from the vector file\n",
    "    mesh = TexturedPhotogrammetryMesh(\n",
    "        MESH_FILENAME,\n",
    "        downsample_target=DOWNSAMPLE_TARGET,\n",
    "        ROI=LABELS_FILENAME,\n",
    "        ROI_buffer_meters=BUFFER_RADIUS_METERS,\n",
    "        texture=LABELS_FILENAME,\n",
    "        texture_column_name=\"species_observed\",\n",
    "        transform_filename=CAMERAS_FILENAME,\n",
    "    )\n",
    "    # Label the ground class\n",
    "    mesh.label_ground_class(\n",
    "        DTM_file=DTM_FILE,\n",
    "        height_above_ground_threshold=HEIGHT_ABOVE_GROUND_THRESH,\n",
    "        only_label_existing_labels=True,\n",
    "        ground_class_name=\"ground\",\n",
    "        set_mesh_texture=True,\n",
    "    )\n",
    "\n",
    "    mesh.save_mesh(LABELED_MESH_FILENAME, save_vert_texture=True)\n",
    "else:\n",
    "    mesh = TexturedPhotogrammetryMesh(\n",
    "        LABELED_MESH_FILENAME, transform_filename=CAMERAS_FILENAME\n",
    "    )\n",
    "print(mesh.IDs_to_labels)\n",
    "class_names = mesh.get_label_names()\n",
    "print(f\"class names {class_names}\")"
   ]
  },
  {
   "cell_type": "markdown",
   "metadata": {},
   "source": [
    "# Load a set of cameras and downsample them to the region around annotations"
   ]
  },
  {
   "cell_type": "code",
   "execution_count": null,
   "metadata": {},
   "outputs": [
    {
     "name": "stderr",
     "output_type": "stream",
     "text": [
      "Loading GPS data for camera set: 100%|██████████| 25122/25122 [00:00<00:00, 2151755.30it/s]\n",
      "/ofo-share/repos-david/conda/envs/MVMT-dev/lib/python3.9/site-packages/pyvista/plotting/plotter.py:149: UserWarning: \n",
      "This system does not appear to be running an xserver.\n",
      "PyVista will likely segfault when rendering.\n",
      "\n",
      "Try starting a virtual frame buffer with xvfb, or using\n",
      "  ``pyvista.start_xvfb()``\n",
      "\n",
      "  warnings.warn(\n"
     ]
    }
   ],
   "source": [
    "# Create camera set\n",
    "camera_set = MetashapeCameraSet(CAMERAS_FILENAME, IMAGE_FOLDER)\n",
    "# Extract cameras near the training data\n",
    "training_camera_set = camera_set.get_subset_ROI(\n",
    "    ROI=LABELS_FILENAME, buffer_radius_meters=BUFFER_RADIUS_METERS\n",
    ")\n",
    "training_camera_set.vis(force_xvfb=True, frustum_scale=0.5)"
   ]
  },
  {
   "cell_type": "markdown",
   "metadata": {},
   "source": [
    "# Show the mesh"
   ]
  },
  {
   "cell_type": "code",
   "execution_count": null,
   "metadata": {},
   "outputs": [],
   "source": [
    "# You can include the camera set, but it's cleaner without it\n",
    "mesh.vis(camera_set=None, force_xvfb=True)"
   ]
  },
  {
   "cell_type": "markdown",
   "metadata": {},
   "source": [
    "# Render the labels onto the images"
   ]
  },
  {
   "cell_type": "code",
   "execution_count": null,
   "metadata": {},
   "outputs": [],
   "source": [
    "mesh.save_renders_pytorch3d(\n",
    "    camera_set=training_camera_set,\n",
    "    render_image_scale=RENDER_IMAGE_SCALE,\n",
    "    save_native_resolution=True,\n",
    "    output_folder=RENDER_FOLDER,\n",
    ")"
   ]
  },
  {
   "cell_type": "markdown",
   "metadata": {},
   "source": [
    "# Show some of the rendered labels"
   ]
  },
  {
   "cell_type": "code",
   "execution_count": null,
   "metadata": {},
   "outputs": [],
   "source": [
    "rendered_files = list(Path(RENDER_FOLDER).rglob(\"*.png\"))\n",
    "\n",
    "for rendered_file in rendered_files[:5]:\n",
    "    image_file = Path(\n",
    "        IMAGE_FOLDER, rendered_file.relative_to(RENDER_FOLDER)\n",
    "    ).with_suffix(\".JPG\")\n",
    "    image = imread(image_file)\n",
    "    render = imread(rendered_file).astype(float)\n",
    "    render[render == NULL_TEXTURE_INT_VALUE] = np.nan\n",
    "    f, ax = plt.subplots(1, 2)\n",
    "    ax[0].imshow(image)\n",
    "    ax[1].imshow(render, vmin=0, vmax=9, cmap=\"tab10\", interpolation=\"none\")\n",
    "    plt.show()\n",
    "    plt.close()"
   ]
  },
  {
   "cell_type": "markdown",
   "metadata": {},
   "source": [
    "# Format the training data"
   ]
  },
  {
   "cell_type": "code",
   "execution_count": null,
   "metadata": {},
   "outputs": [],
   "source": [
    "class_names_str = \" \".join(class_names)\n",
    "\n",
    "subprocess.run(\n",
    "    f\"{MMSEG_UTILS_PYTHON} {FOLDER_TO_CITYSCAPES_SCRIPT} --images-folder {IMAGE_FOLDER}\"\n",
    "    + f\" --labels-folder {RENDER_FOLDER} --output-folder {TRAINING_DATA_FOLDER} --classes {class_names_str} --remove-old\",\n",
    "    shell=True,\n",
    ")"
   ]
  },
  {
   "cell_type": "markdown",
   "metadata": {},
   "source": [
    "# Show some of the formatted example images"
   ]
  },
  {
   "cell_type": "code",
   "execution_count": null,
   "metadata": {},
   "outputs": [],
   "source": [
    "cmap_file = Path(TRAINING_DATA_FOLDER, \"colormap.png\")\n",
    "plt.imshow(imread(cmap_file))\n",
    "plt.show()\n",
    "\n",
    "vis_folder = Path(TRAINING_DATA_FOLDER, \"vis\")\n",
    "vis_files = list(vis_folder.rglob(\"*JPG\"))\n",
    "for file in np.random.choice(vis_files, 10):\n",
    "    print(f\"showing {file}\")\n",
    "    plt.imshow(imread(file))\n",
    "    plt.show()"
   ]
  },
  {
   "cell_type": "markdown",
   "metadata": {},
   "source": [
    "# Train a model"
   ]
  },
  {
   "cell_type": "code",
   "execution_count": null,
   "metadata": {},
   "outputs": [],
   "source": [
    "# Identify the config file as the only python file in the\n",
    "config_file = list(Path(TRAINING_DATA_FOLDER).glob(\"*py\"))[0]\n",
    "subprocess.run(\n",
    "    f\"{MMSEG_PYTHON} {TRAIN_SCRIPT} {config_file} --work-dir {WORK_DIR}\", shell=True\n",
    ")"
   ]
  },
  {
   "cell_type": "markdown",
   "metadata": {},
   "source": [
    "# Generate predictions with the model"
   ]
  },
  {
   "cell_type": "code",
   "execution_count": null,
   "metadata": {},
   "outputs": [],
   "source": [
    "config_file = list(Path(WORK_DIR).glob(\"*py\"))[0]\n",
    "checkpoint_file = Path(WORK_DIR, \"iter_10000.pth\")\n",
    "BATCH_SIZE = 2\n",
    "\n",
    "subprocess.run(\n",
    "    f\"{MMSEG_PYTHON} {INFERENCE_SCRIPT} {config_file} {checkpoint_file} {INFERENCE_IMAGE_FOLDER} {PREDICTIONS_FOLDER} --batch-size {BATCH_SIZE}\",\n",
    "    shell=True,\n",
    ")"
   ]
  },
  {
   "cell_type": "markdown",
   "metadata": {},
   "source": [
    "# Visualize predictions"
   ]
  },
  {
   "cell_type": "code",
   "execution_count": null,
   "metadata": {},
   "outputs": [],
   "source": [
    "# Add _vis to the folder name. Can't just add _vis to the str representation because it might have a trailing slash\n",
    "pred_vis_dir = Path(\n",
    "    Path(PREDICTIONS_FOLDER).parent, Path(PREDICTIONS_FOLDER).parts[-1] + \"_vis\"\n",
    ")\n",
    "STRIDE = 10\n",
    "\n",
    "subprocess.run(\n",
    "    f\"{MMSEG_UTILS_PYTHON} {VIS_PREDS_SCRIPT} --image-dir {INFERENCE_IMAGE_FOLDER} --seg-dir {PREDICTIONS_FOLDER} --output-dir {pred_vis_dir} --stride {STRIDE}\",\n",
    "    shell=True,\n",
    ")"
   ]
  },
  {
   "cell_type": "markdown",
   "metadata": {},
   "source": [
    "# Aggregate predictions"
   ]
  },
  {
   "cell_type": "code",
   "execution_count": null,
   "metadata": {},
   "outputs": [],
   "source": [
    "mesh = TexturedPhotogrammetryMesh(\n",
    "    PREDICTION_MESH_FILENAME,\n",
    "    transform_filename=PREDICTION_CAMERAS_FILENAME,\n",
    "    ROI=LABELS_FILENAME,\n",
    "    ROI_buffer_meters=BUFFER_RADIUS_METERS,\n",
    ")\n",
    "print(\"Done creating mesh\")\n",
    "\n",
    "# Create camera set\n",
    "camera_set = MetashapeCameraSet(PREDICTION_CAMERAS_FILENAME, INFERENCE_IMAGE_FOLDER)\n",
    "# Extract cameras near the training data\n",
    "training_camera_set = camera_set.get_subset_ROI(\n",
    "    ROI=LABELS_FILENAME, buffer_radius_meters=BUFFER_RADIUS_METERS\n",
    ")\n",
    "training_camera_set = training_camera_set.get_cameras_in_folder(INFERENCE_IMAGE_FOLDER)\n",
    "print(\"About to vis\")\n",
    "# %%\n",
    "mesh.vis(camera_set=training_camera_set, force_xvfb=True)\n",
    "\n",
    "# %%\n",
    "segmentor = LookUpSegmentor(\n",
    "    base_folder=INFERENCE_IMAGE_FOLDER,\n",
    "    lookup_folder=PREDICTIONS_FOLDER,\n",
    "    num_classes=8,\n",
    ")\n",
    "\n",
    "segmentor_camera_set = SegmentorPhotogrammetryCameraSet(\n",
    "    training_camera_set, segmentor=segmentor\n",
    ")\n",
    "\n",
    "aggregated_face_labels, _, _ = mesh.aggregate_viewpoints_pytorch3d(\n",
    "    segmentor_camera_set,\n",
    "    image_scale=AGGREGATE_IMAGE_SCALE,\n",
    ")\n",
    "\n",
    "# %%\n",
    "predicted_face_classes = np.argmax(\n",
    "    aggregated_face_labels, axis=1, keepdims=True\n",
    ").astype(float)\n",
    "predicted_face_classes = mesh.label_ground_class(\n",
    "    labels=predicted_face_classes,\n",
    "    height_above_ground_threshold=HEIGHT_ABOVE_GROUND_THRESH,\n",
    "    DTM_file=PREDICTION_DTM_FILE,\n",
    "    ground_ID=np.nan,\n",
    "    set_mesh_texture=False,\n",
    ")\n",
    "np.save(NUMPY_EXPORT_FACES_TEXTURE_FILE, predicted_face_classes)\n",
    "# %%\n",
    "mesh.vis(\n",
    "    vis_scalars=predicted_face_classes,\n",
    "    force_xvfb=True,\n",
    ")\n",
    "\n",
    "mesh.export_face_labels_vector(\n",
    "    face_labels=np.squeeze(predicted_face_classes),\n",
    "    export_file=PREDICTED_VECTOR_LABELS_FILE,\n",
    "    vis=True,\n",
    "    vis_kwargs={\"cmap\": \"tab10\", \"vmin\": 0, \"vmax\": 9},\n",
    ")"
   ]
  },
  {
   "cell_type": "markdown",
   "metadata": {},
   "source": [
    "# Evaluate predictions"
   ]
  },
  {
   "cell_type": "code",
   "execution_count": null,
   "metadata": {},
   "outputs": [],
   "source": [
    "from multiview_mapping_toolkit.utils.geospatial import get_overlap_vector\n",
    "\n",
    "pred_gdf = gpd.read_file(PREDICTED_VECTOR_LABELS_FILE)\n",
    "short_pred_name = \"delta\"\n",
    "gt_gdf = gpd.read_file(LABELS_FILENAME).query(f\"fire=='{short_pred_name}'\")\n",
    "pred_gdf.to_crs(gt_gdf.crs, inplace=True)\n",
    "pred_gdf.plot(\"class_id\", cmap=\"tab10\", vmin=0, vmax=9)\n",
    "gt_gdf.plot(\"species_observed\", vmin=0, vmax=9)\n",
    "counts_mat, inds_into_original = get_overlap_vector(\n",
    "    unlabeled_df=gt_gdf, classes_df=pred_gdf, class_column=\"class_id\"\n",
    ")"
   ]
  },
  {
   "cell_type": "code",
   "execution_count": null,
   "metadata": {},
   "outputs": [],
   "source": [
    "from sklearn.metrics import ConfusionMatrixDisplay, confusion_matrix\n",
    "\n",
    "training_gdf = gpd.read_file(LABELS_FILENAME)\n",
    "class_names = sorted(training_gdf[\"species_observed\"].unique().tolist()) + [\"ground\"]\n",
    "labeled_gt_gdf = gt_gdf.iloc[inds_into_original]\n",
    "\n",
    "pred_class_IDs = np.argmax(counts_mat, axis=1)\n",
    "pred_class_names = [class_names[ID] for ID in pred_class_IDs]\n",
    "\n",
    "cf_matrix = confusion_matrix(\n",
    "    y_true=labeled_gt_gdf[\"species_observed\"].tolist(),\n",
    "    y_pred=pred_class_names,\n",
    "    labels=class_names,\n",
    ")\n",
    "cf_disp = ConfusionMatrixDisplay(confusion_matrix=cf_matrix, display_labels=class_names)\n",
    "cf_disp.plot()\n",
    "plt.show()\n",
    "accuracy = np.sum(cf_matrix * np.eye(cf_matrix.shape[0])) / np.sum(cf_matrix)\n",
    "print(accuracy)"
   ]
  },
  {
   "cell_type": "code",
   "execution_count": null,
   "metadata": {},
   "outputs": [],
   "source": []
  }
 ],
 "metadata": {
  "kernelspec": {
   "display_name": "Python [conda env:conda-MVMT-dev]",
   "language": "python",
   "name": "conda-env-conda-MVMT-dev-py"
  },
  "language_info": {
   "codemirror_mode": {
    "name": "ipython",
    "version": 3
   },
   "file_extension": ".py",
   "mimetype": "text/x-python",
   "name": "python",
   "nbconvert_exporter": "python",
   "pygments_lexer": "ipython3",
   "version": "3.9.18"
  },
  "widgets": {
   "application/vnd.jupyter.widget-state+json": {
    "state": {},
    "version_major": 2,
    "version_minor": 0
   }
  }
 },
 "nbformat": 4,
 "nbformat_minor": 4
}
