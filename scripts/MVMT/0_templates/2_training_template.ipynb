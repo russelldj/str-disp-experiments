{
 "cells": [
  {
   "cell_type": "code",
   "execution_count": null,
   "metadata": {},
   "outputs": [],
   "source": [
    "# Standard library imports\n",
    "import subprocess\n",
    "import json\n",
    "import shutil\n",
    "import sys\n",
    "\n",
    "# Contributed library imports\n",
    "import numpy as np\n",
    "import matplotlib.pyplot as plt\n",
    "from imageio import imread\n",
    "from pathlib import Path\n",
    "\n",
    "# Imports from the constants\n",
    "sys.path.append(\"../..\")\n",
    "from constants import (\n",
    "    get_aggregated_images_folder,\n",
    "    get_aggregated_labels_folder,\n",
    "    get_images_near_labels_folder,\n",
    "    get_render_folder,\n",
    "    get_training_data_folder,\n",
    "    get_work_dir,\n",
    "    MMSEG_PYTHON,\n",
    "    TRAIN_SCRIPT,\n",
    "    MMSEG_UTILS_PYTHON,\n",
    "    FOLDER_TO_CITYSCAPES_SCRIPT,\n",
    ")"
   ]
  },
  {
   "cell_type": "markdown",
   "metadata": {},
   "source": [
    "# Set constants\n",
    "You should be able to define most of the behavior from these constants"
   ]
  },
  {
   "cell_type": "code",
   "execution_count": null,
   "metadata": {},
   "outputs": [],
   "source": [
    "TRAINING_SITES = sorted([\"none\", \"none\", \"none\"])"
   ]
  },
  {
   "cell_type": "code",
   "execution_count": null,
   "metadata": {},
   "outputs": [],
   "source": [
    "AGGREGATED_IMAGES_FOLDER = get_aggregated_images_folder(\n",
    "    training_sites=TRAINING_SITES, is_ortho=False\n",
    ")\n",
    "AGGREGATED_LABELS_FOLDER = get_aggregated_labels_folder(\n",
    "    training_sites=TRAINING_SITES, is_ortho=False\n",
    ")\n",
    "\n",
    "# We need to merge all the imagery together\n",
    "# I think this should be stored in the models folder, alongside the real models\n",
    "# It should be as simple as creating the folders and symlinking the existing ones into it\n",
    "Path(AGGREGATED_IMAGES_FOLDER).mkdir(exist_ok=True, parents=True)\n",
    "Path(AGGREGATED_LABELS_FOLDER).mkdir(exist_ok=True, parents=True)\n",
    "\n",
    "for training_site in TRAINING_SITES:\n",
    "    render_folder = get_render_folder(training_site)\n",
    "    images_near_labels_folder = get_images_near_labels_folder(training_site)\n",
    "\n",
    "    output_render_folder = Path(AGGREGATED_LABELS_FOLDER, training_site)\n",
    "    output_image_folder = Path(AGGREGATED_IMAGES_FOLDER, training_site)\n",
    "\n",
    "    # Unlink if symlink\n",
    "    output_render_folder.unlink(missing_ok=True)\n",
    "    output_image_folder.unlink(missing_ok=True)\n",
    "    # Remove if folder\n",
    "    shutil.rmtree(output_render_folder, ignore_errors=True)\n",
    "    shutil.rmtree(output_image_folder, ignore_errors=True)\n",
    "\n",
    "    shutil.copytree(render_folder, output_render_folder)\n",
    "    shutil.copytree(images_near_labels_folder, output_image_folder)"
   ]
  },
  {
   "cell_type": "code",
   "execution_count": null,
   "metadata": {},
   "outputs": [],
   "source": [
    "TRAINING_DATA_FOLDER_SCRATCH = get_training_data_folder(\n",
    "    training_sites=TRAINING_SITES, is_ortho=False, is_scratch=True\n",
    ")\n",
    "\n",
    "# Use one of the render folders, assuming they are all the same\n",
    "IDs_to_labels_file = Path(render_folder, \"IDs_to_labels.json\")\n",
    "with open(IDs_to_labels_file, \"r\") as infile:\n",
    "    data = json.load(infile)\n",
    "\n",
    "class_names = list(data.values())\n",
    "class_names_str = \" \".join(class_names)\n",
    "print(class_names_str)\n",
    "\n",
    "run_str = (\n",
    "    f\"{MMSEG_UTILS_PYTHON} {FOLDER_TO_CITYSCAPES_SCRIPT} --images-folder {AGGREGATED_IMAGES_FOLDER}\"\n",
    "    + f\" --labels-folder {AGGREGATED_LABELS_FOLDER} --output-folder \"\n",
    "    + f\"{TRAINING_DATA_FOLDER_SCRATCH} --classes {class_names_str} --remove-old\"\n",
    ")\n",
    "print(run_str)\n",
    "subprocess.run(\n",
    "    run_str,\n",
    "    shell=True,\n",
    ")"
   ]
  },
  {
   "cell_type": "markdown",
   "metadata": {},
   "source": [
    "# Show some of the formatted example images"
   ]
  },
  {
   "cell_type": "code",
   "execution_count": null,
   "metadata": {},
   "outputs": [],
   "source": [
    "cmap_file = Path(TRAINING_DATA_FOLDER_SCRATCH, \"colormap.png\")\n",
    "plt.imshow(imread(cmap_file))\n",
    "plt.show()\n",
    "\n",
    "vis_folder = Path(TRAINING_DATA_FOLDER_SCRATCH, \"vis\")\n",
    "vis_files = list(vis_folder.rglob(\"*JPG\"))\n",
    "for file in np.random.choice(vis_files, 10):\n",
    "    print(f\"showing {file}\")\n",
    "    plt.imshow(imread(file))\n",
    "    plt.show()"
   ]
  },
  {
   "cell_type": "markdown",
   "metadata": {},
   "source": [
    "# Train a model"
   ]
  },
  {
   "cell_type": "code",
   "execution_count": null,
   "metadata": {},
   "outputs": [],
   "source": [
    "WORK_DIR_SCRATCH = get_work_dir(training_sites=TRAINING_SITES, is_ortho=False, is_scratch=True)\n",
    "\n",
    "# Identify the config file as the only python file in the\n",
    "config_file = list(Path(TRAINING_DATA_FOLDER_SCRATCH).glob(\"*py\"))[0]\n",
    "subprocess.run(\n",
    "    f\"{MMSEG_PYTHON} {TRAIN_SCRIPT} {config_file} --work-dir {WORK_DIR_SCRATCH}\", shell=True\n",
    ")"
   ]
  },
  {
   "cell_type": "markdown",
   "metadata": {},
   "source": [
    "# Move resuts from scratch"
   ]
  },
  {
   "cell_type": "code",
   "execution_count": null,
   "metadata": {},
   "outputs": [],
   "source": [
    "TRAINING_DATA_FOLDER = get_training_data_folder(training_sites=TRAINING_SITES, is_ortho=False, is_scratch=False)\n",
    "shutil.move(TRAINING_DATA_FOLDER_SCRATCH, TRAINING_DATA_FOLDER)"
   ]
  }
 ],
 "metadata": {
  "kernelspec": {
   "display_name": "Python 3 (ipykernel)",
   "language": "python",
   "name": "python3"
  },
  "language_info": {
   "codemirror_mode": {
    "name": "ipython",
    "version": 3
   },
   "file_extension": ".py",
   "mimetype": "text/x-python",
   "name": "python",
   "nbconvert_exporter": "python",
   "pygments_lexer": "ipython3",
   "version": "3.11.7"
  },
  "widgets": {
   "application/vnd.jupyter.widget-state+json": {
    "state": {},
    "version_major": 2,
    "version_minor": 0
   }
  }
 },
 "nbformat": 4,
 "nbformat_minor": 4
}
