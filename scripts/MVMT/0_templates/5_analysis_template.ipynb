{
 "cells": [
  {
   "cell_type": "code",
   "execution_count": null,
   "metadata": {},
   "outputs": [],
   "source": [
    "# Standard library imports\n",
    "import os\n",
    "\n",
    "# Contributed library imports\n",
    "import geopandas as gpd\n",
    "import numpy as np\n",
    "from pathlib import Path\n",
    "\n",
    "# Our imports\n",
    "from multiview_mapping_toolkit.meshes import TexturedPhotogrammetryMesh\n",
    "from multiview_mapping_toolkit.utils.prediction_metrics import compute_and_show_cf\n",
    "from multiview_mapping_toolkit.utils.geospatial import get_overlap_vector\n"
   ]
  },
  {
   "cell_type": "markdown",
   "metadata": {},
   "source": [
    "# Set constants\n",
    "You should be able to define most of the behavior from these constants"
   ]
  },
  {
   "cell_type": "code",
   "execution_count": null,
   "metadata": {},
   "outputs": [],
   "source": [
    "prediction_site_name = \"none\""
   ]
  },
  {
   "cell_type": "code",
   "execution_count": null,
   "metadata": {},
   "outputs": [],
   "source": [
    "## Parameters to control the outputs\n",
    "# Repeat the labeling process\n",
    "RETEXTURE = False\n",
    "# Points less than this height (meters) above the DTM are considered ground\n",
    "HEIGHT_ABOVE_GROUND_THRESH = 2\n",
    "# The image is downsampled to this fraction for accelerated rendering\n",
    "RENDER_IMAGE_SCALE = 0.25\n",
    "# Cameras within this distance of the traing data are used in the rendering process\n",
    "BUFFER_RADIUS_METERS = 50\n",
    "# Downsample target\n",
    "DOWNSAMPLE_TARGET = 1\n",
    "# Image downsample factor for aggregation\n",
    "AGGREGATE_IMAGE_SCALE = 0.25\n",
    "\n",
    "## Python interpreter and script locations\n",
    "MMSEG_UTILS_PYTHON = \"/ofo-share/repos-david/conda/envs/mmseg-utils/bin/python\"\n",
    "MMSEG_PYTHON = \"/ofo-share/repos-david/conda/envs/openmmlab/bin/python\"\n",
    "\n",
    "FOLDER_TO_CITYSCAPES_SCRIPT = \"/ofo-share/repos-david/mmsegmentation_utils/dev/dataset_creation/folder_to_cityscapes.py\"\n",
    "VIS_PREDS_SCRIPT = \"/ofo-share/repos-david/mmsegmentation_utils/dev/visualization/visualize_semantic_labels.py\"\n",
    "TRAIN_SCRIPT = \"/ofo-share/repos-david/mmsegmentation/tools/train.py\"\n",
    "INFERENCE_SCRIPT = \"/ofo-share/repos-david/mmsegmentation/tools/inference.py\"\n",
    "\n",
    "# One folder up from scripts\n",
    "PROJECT_ROOT = Path(os.path.abspath(\"\"), \"..\", \"..\", \"..\").resolve()\n",
    "SCRATCH_ROOT = Path(Path.home(), \"scratch\", \"organized_str_disp_MVMT_experiments\")\n",
    "\n",
    "IDs_TO_LABELS = {\n",
    "    0: \"ABCO\",\n",
    "    1: \"CADE\",\n",
    "    2: \"PILA\",\n",
    "    3: \"PIPO\",\n",
    "    4: \"PSME\",\n",
    "    5: \"QUEV\",\n",
    "    6: \"SNAG\",\n",
    "    7: \"ground\",\n",
    "}\n",
    "\n",
    "## Define the inputs\n",
    "# The input labels\n",
    "LABELS_FILENAME = Path(PROJECT_ROOT, \"field_ref\", \"crowns_drone_w_field_data.geojson\")\n",
    "LABELS_COLUMN = \"species_observed\"\n",
    "\n",
    "# The digital elevation map exported by Metashape\n",
    "DTM_FILE = Path(\n",
    "    PROJECT_ROOT,\n",
    "    \"per_site_processing\",\n",
    "    prediction_site_name,\n",
    "    \"02_photogrammetry\",\n",
    "    \"exports\",\n",
    "    \"dtms\",\n",
    "    f\"{prediction_site_name}.tif\",\n",
    ")\n",
    "IMAGES_NEAR_LABELS_FOLDER = Path(\n",
    "    PROJECT_ROOT,\n",
    "    \"per_site_processing\",\n",
    "    prediction_site_name,\n",
    "    \"03_training_data\",\n",
    "    \"images_near_labels\",\n",
    ")\n",
    "prediction_site_long_name = {\"valley\": \"ValleyA\", \"chips\": \"ChipsB\", \"delta\": \"DeltaB\"}[\n",
    "    prediction_site_name\n",
    "]\n",
    "IMAGE_FOLDER = f\"/ofo-share/str-disp_drone-data-partial/str-disp_drone-data_imagery-missions/{prediction_site_long_name}\"\n",
    "PREDICTED_VECTOR_LABELS_FILE = Path(\n",
    "    PROJECT_ROOT,\n",
    "    \"per_site_processing\",\n",
    "    prediction_site_name,\n",
    "    \"05_processed_predictions\",\n",
    "    f\"{prediction_site_name}_80m_chips_model.geojson\",\n",
    ")\n",
    "NUMPY_EXPORT_FACES_TEXTURE_FILE = Path(\n",
    "    PROJECT_ROOT,\n",
    "    \"per_site_processing\",\n",
    "    prediction_site_name,\n",
    "    \"05_processed_predictions\",\n",
    "    f\"{prediction_site_name}_80m_chips_model.npy\",\n",
    ")\n",
    "NUMPY_EXPORT_CONFUSION_MATRIX_FILE = Path(\n",
    "    PROJECT_ROOT,\n",
    "    \"per_site_processing\",\n",
    "    prediction_site_name,\n",
    "    \"05_processed_predictions\",\n",
    "    f\"{prediction_site_name}_MVMT_confusion_matrix.npy\",\n",
    ")"
   ]
  },
  {
   "cell_type": "code",
   "execution_count": null,
   "metadata": {},
   "outputs": [],
   "source": [
    "MESH_FILENAME_BASE = Path(\n",
    "    PROJECT_ROOT,\n",
    "    \"per_site_processing\",\n",
    "    prediction_site_name,\n",
    "    \"02_photogrammetry\",\n",
    "    \"exports\",\n",
    "    \"meshes\",\n",
    ")\n",
    "\n",
    "CHIPS_MESH_FILENAME = Path(\n",
    "    MESH_FILENAME_BASE,\n",
    "    \"ChipsB-120m_20230309T0502_w-mesh_w-80m_20231114T2219.ply\",\n",
    ")\n",
    "# The mesh exported from Metashape\n",
    "DELTA_MESH_FILENAME = Path(\n",
    "    MESH_FILENAME_BASE,\n",
    "    \"DeltaB-120m_20230310T1701_w-mesh_w-80m_20231117T1746.ply\",\n",
    ")\n",
    "# The mesh exported from Metashape\n",
    "VALLEY_MESH_FILENAME = Path(\n",
    "    MESH_FILENAME_BASE,\n",
    "    \"ValleyA-120m_20230323T0515_w-mesh.ply\",\n",
    ")\n",
    "# The camera file exported from Metashape\n",
    "CAMERAS_FILENAME_BASE = Path(\n",
    "    PROJECT_ROOT,\n",
    "    \"per_site_processing\",\n",
    "    prediction_site_name,\n",
    "    \"02_photogrammetry\",\n",
    "    \"exports\",\n",
    "    \"cameras\",\n",
    ")\n",
    "CHIPS_CAMERAS_FILENAME = Path(\n",
    "    CAMERAS_FILENAME_BASE,\n",
    "    \"ChipsB-120m_20230309T0502_w-mesh_w-80m_20231114T2219_abs_paths.xml\",\n",
    ")\n",
    "# The camera file exported from Metashape\n",
    "DELTA_CAMERAS_FILENAME = Path(\n",
    "    CAMERAS_FILENAME_BASE,\n",
    "    \"DeltaB-120m_20230310T1701_w-mesh_w-80m_20231117T1746_abs_paths.xml\",\n",
    ")\n",
    "# The camera file exported from Metashape\n",
    "VALLEY_CAMERAS_FILENAME = Path(\n",
    "    CAMERAS_FILENAME_BASE,\n",
    "    \"ValleyA-120m_20230323T0515_w-mesh.xml\",\n",
    ")\n",
    "\n",
    "MESH_FILENAME_DICT = {\n",
    "    \"chips\": CHIPS_MESH_FILENAME,\n",
    "    \"delta\": DELTA_MESH_FILENAME,\n",
    "    \"valley\": VALLEY_MESH_FILENAME,\n",
    "}\n",
    "CAMERAS_FILENAME_DICT = {\n",
    "    \"chips\": CHIPS_CAMERAS_FILENAME,\n",
    "    \"delta\": DELTA_CAMERAS_FILENAME,\n",
    "    \"valley\": VALLEY_CAMERAS_FILENAME,\n",
    "}\n",
    "\n",
    "MESH_FILENAME = MESH_FILENAME_DICT[prediction_site_name]\n",
    "CAMERAS_FILENAME = CAMERAS_FILENAME_DICT[prediction_site_name]"
   ]
  },
  {
   "cell_type": "code",
   "execution_count": null,
   "metadata": {},
   "outputs": [],
   "source": [
    "df = gpd.read_file(PREDICTED_VECTOR_LABELS_FILE)\n",
    "df.plot(\"class_ID\", cmap=\"tab10\", vmin=-0.5, vmax=9.5)\n",
    "\n",
    "class_fractions, IDs_in_original, unique_class_names = get_overlap_vector(\n",
    "    unlabeled_df=LABELS_FILENAME,\n",
    "    classes_df = PREDICTED_VECTOR_LABELS_FILE,\n",
    "    class_column=\"class_ID\"\n",
    ")"
   ]
  },
  {
   "cell_type": "code",
   "execution_count": null,
   "metadata": {},
   "outputs": [],
   "source": [
    "print(class_fractions)\n",
    "print(IDs_in_original)\n",
    "print(unique_class_names)\n",
    "pred_IDs = np.argmax(class_fractions, axis=1)\n",
    "\n",
    "pred_IDs = [int(unique_class_names[i]) for i in pred_IDs]\n",
    "pred_class = [IDs_TO_LABELS[pred_ID] for pred_ID in pred_IDs]\n",
    "\n",
    "# Load the data\n",
    "gdf = gpd.read_file(LABELS_FILENAME)\n",
    "site_gdf = gdf.iloc[IDs_in_original]\n",
    "site_gdf[\"pred_class\"] = pred_class\n",
    "print(\"Ground truth\")\n",
    "site_gdf.plot(LABELS_COLUMN, legend=True, vmin=-0.5, vmax=9.5)\n",
    "print(\"Predicted\")\n",
    "site_gdf.plot(\"pred_class\", legend=True, vmin=-0.5, vmax=9.5)"
   ]
  },
  {
   "cell_type": "code",
   "execution_count": null,
   "metadata": {},
   "outputs": [],
   "source": [
    "gt_list = site_gdf[LABELS_COLUMN].tolist()\n",
    "pred_list = site_gdf[\"pred_class\"].tolist()\n",
    "print(f\"GT classes {gt_list}\")\n",
    "print(f\"Pred classes {pred_list}\")\n",
    "\n",
    "cf, classes, accuracy = compute_and_show_cf(pred_labels=pred_list, gt_labels=gt_list)\n",
    "np.save(NUMPY_EXPORT_CONFUSION_MATRIX_FILE, cf)"
   ]
  },
  {
   "cell_type": "markdown",
   "metadata": {},
   "source": [
    "# Ground truth classes"
   ]
  },
  {
   "cell_type": "code",
   "execution_count": null,
   "metadata": {},
   "outputs": [],
   "source": [
    "mesh = TexturedPhotogrammetryMesh(\n",
    "    MESH_FILENAME,\n",
    "    transform_filename=CAMERAS_FILENAME,\n",
    "    texture=LABELS_FILENAME,\n",
    "    texture_column_name=LABELS_COLUMN,\n",
    "    ROI=LABELS_FILENAME,\n",
    "    ROI_buffer_meters=BUFFER_RADIUS_METERS,\n",
    ")\n",
    "mesh.label_ground_class(\n",
    "    height_above_ground_threshold=HEIGHT_ABOVE_GROUND_THRESH,\n",
    "    DTM_file=DTM_FILE,\n",
    "    set_mesh_texture=True,\n",
    ")\n",
    "mesh.vis(force_xvfb=True)"
   ]
  },
  {
   "cell_type": "markdown",
   "metadata": {},
   "source": [
    "# Predicted classes"
   ]
  },
  {
   "cell_type": "code",
   "execution_count": null,
   "metadata": {},
   "outputs": [],
   "source": [
    "mesh = TexturedPhotogrammetryMesh(\n",
    "    MESH_FILENAME,\n",
    "    transform_filename=CAMERAS_FILENAME,\n",
    "    texture=NUMPY_EXPORT_FACES_TEXTURE_FILE,\n",
    "    IDs_to_labels=IDs_TO_LABELS,\n",
    "    ROI=LABELS_FILENAME,\n",
    "    ROI_buffer_meters=BUFFER_RADIUS_METERS,\n",
    ")\n",
    "mesh.vis(force_xvfb=True)"
   ]
  },
  {
   "cell_type": "markdown",
   "metadata": {},
   "source": [
    "# Colored mesh"
   ]
  },
  {
   "cell_type": "code",
   "execution_count": null,
   "metadata": {},
   "outputs": [],
   "source": [
    "mesh = TexturedPhotogrammetryMesh(\n",
    "    MESH_FILENAME,\n",
    "    transform_filename=CAMERAS_FILENAME,\n",
    "    ROI=LABELS_FILENAME,\n",
    "    ROI_buffer_meters=BUFFER_RADIUS_METERS,\n",
    ")\n",
    "mesh.vis(force_xvfb=True)"
   ]
  }
 ],
 "metadata": {
  "kernelspec": {
   "display_name": "MVMT-stable",
   "language": "python",
   "name": "python3"
  },
  "language_info": {
   "codemirror_mode": {
    "name": "ipython",
    "version": 3
   },
   "file_extension": ".py",
   "mimetype": "text/x-python",
   "name": "python",
   "nbconvert_exporter": "python",
   "pygments_lexer": "ipython3",
   "version": "3.9.18"
  },
  "widgets": {
   "application/vnd.jupyter.widget-state+json": {
    "state": {},
    "version_major": 2,
    "version_minor": 0
   }
  }
 },
 "nbformat": 4,
 "nbformat_minor": 4
}
