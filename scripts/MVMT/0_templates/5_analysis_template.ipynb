{
 "cells": [
  {
   "cell_type": "code",
   "execution_count": null,
   "metadata": {},
   "outputs": [],
   "source": [
    "# Standard library imports\n",
    "import os\n",
    "import sys\n",
    "\n",
    "# Contributed library imports\n",
    "import geopandas as gpd\n",
    "import numpy as np\n",
    "from pathlib import Path\n",
    "\n",
    "# Our imports\n",
    "from multiview_mapping_toolkit.meshes import TexturedPhotogrammetryMesh\n",
    "from multiview_mapping_toolkit.utils.prediction_metrics import compute_and_show_cf\n",
    "from multiview_mapping_toolkit.utils.geospatial import get_overlap_vector\n",
    "\n",
    "sys.path.append(\"../..\")\n",
    "from constants import (\n",
    "    get_IDs_to_labels,\n",
    "    get_numpy_export_cf_filename,\n",
    "    get_predicted_vector_labels_filename,\n",
    "    get_mesh_filename,\n",
    "    get_camera_filename,\n",
    "    get_DTM_filename,\n",
    "    LABELS_COLUMN,\n",
    "    LABELS_FILENAME,\n",
    ")"
   ]
  },
  {
   "cell_type": "markdown",
   "metadata": {},
   "source": [
    "# Set constants\n",
    "You should be able to define most of the behavior from these constants"
   ]
  },
  {
   "cell_type": "code",
   "execution_count": null,
   "metadata": {},
   "outputs": [],
   "source": [
    "PREDICTION_SITE = \"none\""
   ]
  },
  {
   "cell_type": "code",
   "execution_count": null,
   "metadata": {},
   "outputs": [],
   "source": [
    "## Parameters to control the outputs\n",
    "# Repeat the labeling process\n",
    "RETEXTURE = False\n",
    "# Points less than this height (meters) above the DTM are considered ground\n",
    "HEIGHT_ABOVE_GROUND_THRESH = 2\n",
    "# The image is downsampled to this fraction for accelerated rendering\n",
    "RENDER_IMAGE_SCALE = 0.25\n",
    "# Cameras within this distance of the traing data are used in the rendering process\n",
    "BUFFER_RADIUS_METERS = 50\n",
    "# Downsample target\n",
    "DOWNSAMPLE_TARGET = 1\n",
    "# Image downsample factor for aggregation\n",
    "AGGREGATE_IMAGE_SCALE = 0.25"
   ]
  },
  {
   "cell_type": "code",
   "execution_count": null,
   "metadata": {},
   "outputs": [],
   "source": [
    "PREDICTED_VECTOR_LABELS_FILE = get_predicted_vector_labels_filename(PREDICTION_SITE)\n",
    "\n",
    "df = gpd.read_file(PREDICTED_VECTOR_LABELS_FILE)\n",
    "df.plot(\"class_ID\", cmap=\"tab10\", vmin=-0.5, vmax=9.5)\n",
    "\n",
    "class_fractions, IDs_in_original, unique_class_names = get_overlap_vector(\n",
    "    unlabeled_df=LABELS_FILENAME,\n",
    "    classes_df=PREDICTED_VECTOR_LABELS_FILE,\n",
    "    class_column=\"class_ID\",\n",
    ")"
   ]
  },
  {
   "cell_type": "code",
   "execution_count": null,
   "metadata": {},
   "outputs": [],
   "source": [
    "IDs_TO_LABELS = get_IDs_to_labels()\n",
    "\n",
    "print(class_fractions)\n",
    "print(IDs_in_original)\n",
    "print(unique_class_names)\n",
    "pred_IDs = np.argmax(class_fractions, axis=1)\n",
    "\n",
    "pred_IDs = [int(unique_class_names[i]) for i in pred_IDs]\n",
    "pred_class = [IDs_TO_LABELS[pred_ID] for pred_ID in pred_IDs]\n",
    "\n",
    "# Load the data\n",
    "gdf = gpd.read_file(LABELS_FILENAME)\n",
    "site_gdf = gdf.iloc[IDs_in_original]\n",
    "site_gdf[\"pred_class\"] = pred_class\n",
    "print(\"Ground truth\")\n",
    "site_gdf.plot(LABELS_COLUMN, legend=True, vmin=-0.5, vmax=9.5)\n",
    "print(\"Predicted\")\n",
    "site_gdf.plot(\"pred_class\", legend=True, vmin=-0.5, vmax=9.5)"
   ]
  },
  {
   "cell_type": "code",
   "execution_count": null,
   "metadata": {},
   "outputs": [],
   "source": [
    "NUMPY_EXPORT_CONFUSION_MATRIX_FILE = get_numpy_export_cf_filename(PREDICTION_SITE)\n",
    "\n",
    "gt_list = site_gdf[LABELS_COLUMN].tolist()\n",
    "pred_list = site_gdf[\"pred_class\"].tolist()\n",
    "print(f\"GT classes {gt_list}\")\n",
    "print(f\"Pred classes {pred_list}\")\n",
    "\n",
    "cf, classes, accuracy = compute_and_show_cf(\n",
    "    pred_labels=pred_list,\n",
    "    gt_labels=gt_list,\n",
    "    labels=list(IDs_TO_LABELS.values()),\n",
    ")\n",
    "np.save(NUMPY_EXPORT_CONFUSION_MATRIX_FILE, cf)\n",
    "print(f\"Accuracy: {accuracy}\")"
   ]
  },
  {
   "cell_type": "markdown",
   "metadata": {},
   "source": [
    "# Ground truth classes"
   ]
  },
  {
   "cell_type": "code",
   "execution_count": null,
   "metadata": {},
   "outputs": [],
   "source": [
    "MESH_FILENAME = get_mesh_filename(PREDICTION_SITE)\n",
    "CAMERAS_FILENAME = get_camera_filename(PREDICTION_SITE)\n",
    "DTM_FILE = get_DTM_filename(PREDICTION_SITE)\n",
    "\n",
    "mesh = TexturedPhotogrammetryMesh(\n",
    "    MESH_FILENAME,\n",
    "    transform_filename=CAMERAS_FILENAME,\n",
    "    texture=LABELS_FILENAME,\n",
    "    texture_column_name=LABELS_COLUMN,\n",
    "    ROI=LABELS_FILENAME,\n",
    "    ROI_buffer_meters=BUFFER_RADIUS_METERS,\n",
    ")\n",
    "mesh.label_ground_class(\n",
    "    height_above_ground_threshold=HEIGHT_ABOVE_GROUND_THRESH,\n",
    "    DTM_file=DTM_FILE,\n",
    "    set_mesh_texture=True,\n",
    ")\n",
    "mesh.vis(force_xvfb=True)"
   ]
  },
  {
   "cell_type": "markdown",
   "metadata": {},
   "source": [
    "# Predicted classes"
   ]
  },
  {
   "cell_type": "code",
   "execution_count": null,
   "metadata": {},
   "outputs": [],
   "source": [
    "NUMPY_EXPORT_FACES_TEXTURE_FILE= get_numpy_export_cf_filename(PREDICTION_SITE)\n",
    "\n",
    "mesh = TexturedPhotogrammetryMesh(\n",
    "    MESH_FILENAME,\n",
    "    transform_filename=CAMERAS_FILENAME,\n",
    "    texture=NUMPY_EXPORT_FACES_TEXTURE_FILE,\n",
    "    IDs_to_labels=IDs_TO_LABELS,\n",
    "    ROI=LABELS_FILENAME,\n",
    "    ROI_buffer_meters=BUFFER_RADIUS_METERS,\n",
    ")\n",
    "mesh.vis(force_xvfb=True)"
   ]
  },
  {
   "cell_type": "markdown",
   "metadata": {},
   "source": [
    "# Colored mesh"
   ]
  },
  {
   "cell_type": "code",
   "execution_count": null,
   "metadata": {},
   "outputs": [],
   "source": [
    "mesh = TexturedPhotogrammetryMesh(\n",
    "    MESH_FILENAME,\n",
    "    transform_filename=CAMERAS_FILENAME,\n",
    "    ROI=LABELS_FILENAME,\n",
    "    ROI_buffer_meters=BUFFER_RADIUS_METERS,\n",
    ")\n",
    "mesh.vis(force_xvfb=True)"
   ]
  }
 ],
 "metadata": {
  "kernelspec": {
   "display_name": "Python 3 (ipykernel)",
   "language": "python",
   "name": "python3"
  },
  "language_info": {
   "codemirror_mode": {
    "name": "ipython",
    "version": 3
   },
   "file_extension": ".py",
   "mimetype": "text/x-python",
   "name": "python",
   "nbconvert_exporter": "python",
   "pygments_lexer": "ipython3",
   "version": "3.11.7"
  },
  "widgets": {
   "application/vnd.jupyter.widget-state+json": {
    "state": {},
    "version_major": 2,
    "version_minor": 0
   }
  }
 },
 "nbformat": 4,
 "nbformat_minor": 4
}
