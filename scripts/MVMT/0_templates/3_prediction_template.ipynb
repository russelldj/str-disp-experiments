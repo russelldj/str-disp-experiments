{
 "cells": [
  {
   "cell_type": "code",
   "execution_count": null,
   "metadata": {},
   "outputs": [],
   "source": [
    "# Standard library imports\n",
    "import subprocess\n",
    "import sys\n",
    "from pathlib import Path\n",
    "\n",
    "from multiview_mapping_toolkit.utils.visualization import show_segmentation_labels\n",
    "\n",
    "# Imports from the constants\n",
    "sys.path.append(\"../..\")\n",
    "from constants import (\n",
    "    MMSEG_PYTHON,\n",
    "    MMSEG_UTILS_PYTHON,\n",
    "    INFERENCE_SCRIPT,\n",
    "    VIS_PREDS_SCRIPT,\n",
    "    get_inference_image_folder,\n",
    "    get_work_dir,\n",
    "    get_prediction_folder,\n",
    ")"
   ]
  },
  {
   "cell_type": "markdown",
   "metadata": {},
   "source": [
    "# Set constants\n",
    "You should be able to define most of the behavior from these constants"
   ]
  },
  {
   "cell_type": "code",
   "execution_count": null,
   "metadata": {},
   "outputs": [],
   "source": [
    "TEST_SITE = \"none\"\n",
    "TRAINING_SITES = [\"none\", \"none\"]"
   ]
  },
  {
   "cell_type": "markdown",
   "metadata": {},
   "source": [
    "# Generate predictions with the model"
   ]
  },
  {
   "cell_type": "code",
   "execution_count": null,
   "metadata": {},
   "outputs": [],
   "source": [
    "WORK_DIR = get_work_dir(training_sites=TRAINING_SITES)\n",
    "INFERENCE_IMAGE_FOLDER = get_inference_image_folder(site_name=TEST_SITE)\n",
    "PREDICTIONS_FOLDER = get_prediction_folder(\n",
    "    prediction_site=TEST_SITE, training_sites=TRAINING_SITES\n",
    ")\n",
    "\n",
    "\n",
    "config_file = list(Path(WORK_DIR).glob(\"*py\"))[0]\n",
    "checkpoint_file = Path(WORK_DIR, \"iter_10000.pth\")\n",
    "BATCH_SIZE = 2\n",
    "\n",
    "subprocess.run(\n",
    "    f\"{MMSEG_PYTHON} {INFERENCE_SCRIPT} {config_file} \"\n",
    "    + f\"{checkpoint_file} {INFERENCE_IMAGE_FOLDER} {PREDICTIONS_FOLDER} --batch-size {BATCH_SIZE}\",\n",
    "    shell=True,\n",
    ")"
   ]
  },
  {
   "cell_type": "markdown",
   "metadata": {},
   "source": [
    "# Visualize predictions"
   ]
  },
  {
   "cell_type": "code",
   "execution_count": null,
   "metadata": {},
   "outputs": [],
   "source": [
    "# Add _vis to the folder name. Can't just add _vis to the str representation because it might have a trailing slash\n",
    "pred_vis_dir = Path(\n",
    "    Path(PREDICTIONS_FOLDER).parent, Path(PREDICTIONS_FOLDER).parts[-1] + \"_vis\"\n",
    ")\n",
    "STRIDE = 10\n",
    "\n",
    "subprocess.run(\n",
    "    f\"{MMSEG_UTILS_PYTHON} {VIS_PREDS_SCRIPT} --image-dir {INFERENCE_IMAGE_FOLDER} \"\n",
    "    + f\"--seg-dir {PREDICTIONS_FOLDER} --output-dir {pred_vis_dir} --stride {STRIDE}\",\n",
    "    shell=True,\n",
    ")"
   ]
  },
  {
   "cell_type": "code",
   "execution_count": null,
   "metadata": {},
   "outputs": [],
   "source": [
    "show_segmentation_labels(\n",
    "    label_folder=PREDICTIONS_FOLDER, image_folder=INFERENCE_IMAGE_FOLDER\n",
    ")"
   ]
  }
 ],
 "metadata": {
  "kernelspec": {
   "display_name": "MVMT-stable",
   "language": "python",
   "name": "python3"
  },
  "language_info": {
   "codemirror_mode": {
    "name": "ipython",
    "version": 3
   },
   "file_extension": ".py",
   "mimetype": "text/x-python",
   "name": "python",
   "nbconvert_exporter": "python",
   "pygments_lexer": "ipython3",
   "version": "3.9.18"
  },
  "widgets": {
   "application/vnd.jupyter.widget-state+json": {
    "state": {},
    "version_major": 2,
    "version_minor": 0
   }
  }
 },
 "nbformat": 4,
 "nbformat_minor": 4
}
